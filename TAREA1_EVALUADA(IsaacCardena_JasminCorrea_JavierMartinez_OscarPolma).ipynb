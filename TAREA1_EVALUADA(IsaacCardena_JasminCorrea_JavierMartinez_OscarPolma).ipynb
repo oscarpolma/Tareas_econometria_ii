{
  "nbformat": 4,
  "nbformat_minor": 0,
  "metadata": {
    "colab": {
      "provenance": []
    },
    "kernelspec": {
      "name": "python3",
      "display_name": "Python 3"
    },
    "language_info": {
      "name": "python"
    }
  },
  "cells": [
    {
      "cell_type": "markdown",
      "source": [
        "#***Integrantes***\n",
        "\n",
        "* Isaac Cardena\n",
        "* Jasmín Correa\n",
        "* Javier Martinez\n",
        "* Oscar Polma\n"
      ],
      "metadata": {
        "id": "iMrPwwBlVAPb"
      }
    },
    {
      "cell_type": "markdown",
      "source": [
        "##Librerias"
      ],
      "metadata": {
        "id": "WuRSziGPX2gb"
      }
    },
    {
      "cell_type": "code",
      "execution_count": 1,
      "metadata": {
        "id": "D_jqEHgeSn-K",
        "colab": {
          "base_uri": "https://localhost:8080/"
        },
        "outputId": "8b275ac4-ab49-42ce-841a-5d7751f8dc37"
      },
      "outputs": [
        {
          "output_type": "stream",
          "name": "stdout",
          "text": [
            "\u001b[?25l     \u001b[90m━━━━━━━━━━━━━━━━━━━━━━━━━━━━━━━━━━━━━━━━\u001b[0m \u001b[32m0.0/198.9 kB\u001b[0m \u001b[31m?\u001b[0m eta \u001b[36m-:--:--\u001b[0m\r\u001b[2K     \u001b[91m━━━━━━━━━━━━━━\u001b[0m\u001b[90m╺\u001b[0m\u001b[90m━━━━━━━━━━━━━━━━━━━━━━━━━\u001b[0m \u001b[32m71.7/198.9 kB\u001b[0m \u001b[31m1.9 MB/s\u001b[0m eta \u001b[36m0:00:01\u001b[0m\r\u001b[2K     \u001b[90m━━━━━━━━━━━━━━━━━━━━━━━━━━━━━━━━━━━━━━━━\u001b[0m \u001b[32m198.9/198.9 kB\u001b[0m \u001b[31m3.4 MB/s\u001b[0m eta \u001b[36m0:00:00\u001b[0m\n",
            "\u001b[?25h"
          ]
        }
      ],
      "source": [
        "import pandas as pd\n",
        "import numpy as np\n",
        "import matplotlib.pyplot as plt\n",
        "!pip install pingouin --quiet pingouin\n",
        "import pingouin as pg ##la usaremos para la prueba de diferencia de medias\n",
        "import itertools ## la usaremos para realizar las combinaciones de modelos\n",
        "import statsmodels.api as sm\n",
        "from sklearn.metrics import accuracy_score"
      ]
    },
    {
      "cell_type": "markdown",
      "source": [
        "##Conjunto de Datos"
      ],
      "metadata": {
        "id": "OUHlOejbX8xA"
      }
    },
    {
      "cell_type": "code",
      "source": [
        "url = (\"https://raw.githubusercontent.com/leomanriquezm/introduction-to-econometrics/main/df_collapse.csv\")\n",
        "\n",
        "data = pd.read_table(url,delimiter = \",\");data\n",
        "\n",
        "###Sistema Colapsa: Variable dicotomica que asume el valor 1 cuando el sistema de información\n",
        "#colapsa y 0 cuando no colapsa.\n",
        "##Consultas: Número de consultas ingresadas en el sistema de información (un unidades de consultas)\n",
        "###Tiempo Promedio: Tiempo promedio de respuesta por consulta (en segundos)\n",
        "###Usuarios Registrados: Variable dicotómica que asume el valor 1 si el sistema de información\n",
        "#recibe consultas de usuarios no registrados y 0 en otro caso.\n",
        "###Errores: Número de errores reportados en el sistema de información (en unidades de errores)\n",
        "###Capacidad Servidores: Capacidad de los servidores del sistema de información (en escala de 1 a\n",
        "#10, un n´umero m´as alto implica una mayor capacidad)"
      ],
      "metadata": {
        "colab": {
          "base_uri": "https://localhost:8080/",
          "height": 424
        },
        "id": "UcTkM19zTAPF",
        "outputId": "5a11e451-443a-41df-ca38-5732d34505b6"
      },
      "execution_count": 2,
      "outputs": [
        {
          "output_type": "execute_result",
          "data": {
            "text/plain": [
              "      Sistema_Colapsa  Consultas  Tiempo_Promedio  Usuarios_Registrados  \\\n",
              "0                   0         44         1.113479                     0   \n",
              "1                   0         47         2.186888                     0   \n",
              "2                   1         64         6.805668                     0   \n",
              "3                   1         67         7.489474                     1   \n",
              "4                   1         67         6.666282                     0   \n",
              "...               ...        ...              ...                   ...   \n",
              "9995                0          7         1.796586                     0   \n",
              "9996                0         29         2.970983                     1   \n",
              "9997                0         39         4.563541                     1   \n",
              "9998                1         72         1.914783                     0   \n",
              "9999                0         48         6.680941                     0   \n",
              "\n",
              "      Errores  Capacidad_Servidores  \n",
              "0           3                     5  \n",
              "1           2                     9  \n",
              "2           4                     2  \n",
              "3           4                     1  \n",
              "4           1                     5  \n",
              "...       ...                   ...  \n",
              "9995        4                     1  \n",
              "9996        2                     9  \n",
              "9997        4                     8  \n",
              "9998        2                     1  \n",
              "9999        0                    10  \n",
              "\n",
              "[10000 rows x 6 columns]"
            ],
            "text/html": [
              "\n",
              "  <div id=\"df-98c7f51f-222e-4228-ba99-b2c540f3668c\" class=\"colab-df-container\">\n",
              "    <div>\n",
              "<style scoped>\n",
              "    .dataframe tbody tr th:only-of-type {\n",
              "        vertical-align: middle;\n",
              "    }\n",
              "\n",
              "    .dataframe tbody tr th {\n",
              "        vertical-align: top;\n",
              "    }\n",
              "\n",
              "    .dataframe thead th {\n",
              "        text-align: right;\n",
              "    }\n",
              "</style>\n",
              "<table border=\"1\" class=\"dataframe\">\n",
              "  <thead>\n",
              "    <tr style=\"text-align: right;\">\n",
              "      <th></th>\n",
              "      <th>Sistema_Colapsa</th>\n",
              "      <th>Consultas</th>\n",
              "      <th>Tiempo_Promedio</th>\n",
              "      <th>Usuarios_Registrados</th>\n",
              "      <th>Errores</th>\n",
              "      <th>Capacidad_Servidores</th>\n",
              "    </tr>\n",
              "  </thead>\n",
              "  <tbody>\n",
              "    <tr>\n",
              "      <th>0</th>\n",
              "      <td>0</td>\n",
              "      <td>44</td>\n",
              "      <td>1.113479</td>\n",
              "      <td>0</td>\n",
              "      <td>3</td>\n",
              "      <td>5</td>\n",
              "    </tr>\n",
              "    <tr>\n",
              "      <th>1</th>\n",
              "      <td>0</td>\n",
              "      <td>47</td>\n",
              "      <td>2.186888</td>\n",
              "      <td>0</td>\n",
              "      <td>2</td>\n",
              "      <td>9</td>\n",
              "    </tr>\n",
              "    <tr>\n",
              "      <th>2</th>\n",
              "      <td>1</td>\n",
              "      <td>64</td>\n",
              "      <td>6.805668</td>\n",
              "      <td>0</td>\n",
              "      <td>4</td>\n",
              "      <td>2</td>\n",
              "    </tr>\n",
              "    <tr>\n",
              "      <th>3</th>\n",
              "      <td>1</td>\n",
              "      <td>67</td>\n",
              "      <td>7.489474</td>\n",
              "      <td>1</td>\n",
              "      <td>4</td>\n",
              "      <td>1</td>\n",
              "    </tr>\n",
              "    <tr>\n",
              "      <th>4</th>\n",
              "      <td>1</td>\n",
              "      <td>67</td>\n",
              "      <td>6.666282</td>\n",
              "      <td>0</td>\n",
              "      <td>1</td>\n",
              "      <td>5</td>\n",
              "    </tr>\n",
              "    <tr>\n",
              "      <th>...</th>\n",
              "      <td>...</td>\n",
              "      <td>...</td>\n",
              "      <td>...</td>\n",
              "      <td>...</td>\n",
              "      <td>...</td>\n",
              "      <td>...</td>\n",
              "    </tr>\n",
              "    <tr>\n",
              "      <th>9995</th>\n",
              "      <td>0</td>\n",
              "      <td>7</td>\n",
              "      <td>1.796586</td>\n",
              "      <td>0</td>\n",
              "      <td>4</td>\n",
              "      <td>1</td>\n",
              "    </tr>\n",
              "    <tr>\n",
              "      <th>9996</th>\n",
              "      <td>0</td>\n",
              "      <td>29</td>\n",
              "      <td>2.970983</td>\n",
              "      <td>1</td>\n",
              "      <td>2</td>\n",
              "      <td>9</td>\n",
              "    </tr>\n",
              "    <tr>\n",
              "      <th>9997</th>\n",
              "      <td>0</td>\n",
              "      <td>39</td>\n",
              "      <td>4.563541</td>\n",
              "      <td>1</td>\n",
              "      <td>4</td>\n",
              "      <td>8</td>\n",
              "    </tr>\n",
              "    <tr>\n",
              "      <th>9998</th>\n",
              "      <td>1</td>\n",
              "      <td>72</td>\n",
              "      <td>1.914783</td>\n",
              "      <td>0</td>\n",
              "      <td>2</td>\n",
              "      <td>1</td>\n",
              "    </tr>\n",
              "    <tr>\n",
              "      <th>9999</th>\n",
              "      <td>0</td>\n",
              "      <td>48</td>\n",
              "      <td>6.680941</td>\n",
              "      <td>0</td>\n",
              "      <td>0</td>\n",
              "      <td>10</td>\n",
              "    </tr>\n",
              "  </tbody>\n",
              "</table>\n",
              "<p>10000 rows × 6 columns</p>\n",
              "</div>\n",
              "    <div class=\"colab-df-buttons\">\n",
              "\n",
              "  <div class=\"colab-df-container\">\n",
              "    <button class=\"colab-df-convert\" onclick=\"convertToInteractive('df-98c7f51f-222e-4228-ba99-b2c540f3668c')\"\n",
              "            title=\"Convert this dataframe to an interactive table.\"\n",
              "            style=\"display:none;\">\n",
              "\n",
              "  <svg xmlns=\"http://www.w3.org/2000/svg\" height=\"24px\" viewBox=\"0 -960 960 960\">\n",
              "    <path d=\"M120-120v-720h720v720H120Zm60-500h600v-160H180v160Zm220 220h160v-160H400v160Zm0 220h160v-160H400v160ZM180-400h160v-160H180v160Zm440 0h160v-160H620v160ZM180-180h160v-160H180v160Zm440 0h160v-160H620v160Z\"/>\n",
              "  </svg>\n",
              "    </button>\n",
              "\n",
              "  <style>\n",
              "    .colab-df-container {\n",
              "      display:flex;\n",
              "      gap: 12px;\n",
              "    }\n",
              "\n",
              "    .colab-df-convert {\n",
              "      background-color: #E8F0FE;\n",
              "      border: none;\n",
              "      border-radius: 50%;\n",
              "      cursor: pointer;\n",
              "      display: none;\n",
              "      fill: #1967D2;\n",
              "      height: 32px;\n",
              "      padding: 0 0 0 0;\n",
              "      width: 32px;\n",
              "    }\n",
              "\n",
              "    .colab-df-convert:hover {\n",
              "      background-color: #E2EBFA;\n",
              "      box-shadow: 0px 1px 2px rgba(60, 64, 67, 0.3), 0px 1px 3px 1px rgba(60, 64, 67, 0.15);\n",
              "      fill: #174EA6;\n",
              "    }\n",
              "\n",
              "    .colab-df-buttons div {\n",
              "      margin-bottom: 4px;\n",
              "    }\n",
              "\n",
              "    [theme=dark] .colab-df-convert {\n",
              "      background-color: #3B4455;\n",
              "      fill: #D2E3FC;\n",
              "    }\n",
              "\n",
              "    [theme=dark] .colab-df-convert:hover {\n",
              "      background-color: #434B5C;\n",
              "      box-shadow: 0px 1px 3px 1px rgba(0, 0, 0, 0.15);\n",
              "      filter: drop-shadow(0px 1px 2px rgba(0, 0, 0, 0.3));\n",
              "      fill: #FFFFFF;\n",
              "    }\n",
              "  </style>\n",
              "\n",
              "    <script>\n",
              "      const buttonEl =\n",
              "        document.querySelector('#df-98c7f51f-222e-4228-ba99-b2c540f3668c button.colab-df-convert');\n",
              "      buttonEl.style.display =\n",
              "        google.colab.kernel.accessAllowed ? 'block' : 'none';\n",
              "\n",
              "      async function convertToInteractive(key) {\n",
              "        const element = document.querySelector('#df-98c7f51f-222e-4228-ba99-b2c540f3668c');\n",
              "        const dataTable =\n",
              "          await google.colab.kernel.invokeFunction('convertToInteractive',\n",
              "                                                    [key], {});\n",
              "        if (!dataTable) return;\n",
              "\n",
              "        const docLinkHtml = 'Like what you see? Visit the ' +\n",
              "          '<a target=\"_blank\" href=https://colab.research.google.com/notebooks/data_table.ipynb>data table notebook</a>'\n",
              "          + ' to learn more about interactive tables.';\n",
              "        element.innerHTML = '';\n",
              "        dataTable['output_type'] = 'display_data';\n",
              "        await google.colab.output.renderOutput(dataTable, element);\n",
              "        const docLink = document.createElement('div');\n",
              "        docLink.innerHTML = docLinkHtml;\n",
              "        element.appendChild(docLink);\n",
              "      }\n",
              "    </script>\n",
              "  </div>\n",
              "\n",
              "\n",
              "<div id=\"df-d8a717a2-4e04-49e3-9a33-bad24818f429\">\n",
              "  <button class=\"colab-df-quickchart\" onclick=\"quickchart('df-d8a717a2-4e04-49e3-9a33-bad24818f429')\"\n",
              "            title=\"Suggest charts\"\n",
              "            style=\"display:none;\">\n",
              "\n",
              "<svg xmlns=\"http://www.w3.org/2000/svg\" height=\"24px\"viewBox=\"0 0 24 24\"\n",
              "     width=\"24px\">\n",
              "    <g>\n",
              "        <path d=\"M19 3H5c-1.1 0-2 .9-2 2v14c0 1.1.9 2 2 2h14c1.1 0 2-.9 2-2V5c0-1.1-.9-2-2-2zM9 17H7v-7h2v7zm4 0h-2V7h2v10zm4 0h-2v-4h2v4z\"/>\n",
              "    </g>\n",
              "</svg>\n",
              "  </button>\n",
              "\n",
              "<style>\n",
              "  .colab-df-quickchart {\n",
              "      --bg-color: #E8F0FE;\n",
              "      --fill-color: #1967D2;\n",
              "      --hover-bg-color: #E2EBFA;\n",
              "      --hover-fill-color: #174EA6;\n",
              "      --disabled-fill-color: #AAA;\n",
              "      --disabled-bg-color: #DDD;\n",
              "  }\n",
              "\n",
              "  [theme=dark] .colab-df-quickchart {\n",
              "      --bg-color: #3B4455;\n",
              "      --fill-color: #D2E3FC;\n",
              "      --hover-bg-color: #434B5C;\n",
              "      --hover-fill-color: #FFFFFF;\n",
              "      --disabled-bg-color: #3B4455;\n",
              "      --disabled-fill-color: #666;\n",
              "  }\n",
              "\n",
              "  .colab-df-quickchart {\n",
              "    background-color: var(--bg-color);\n",
              "    border: none;\n",
              "    border-radius: 50%;\n",
              "    cursor: pointer;\n",
              "    display: none;\n",
              "    fill: var(--fill-color);\n",
              "    height: 32px;\n",
              "    padding: 0;\n",
              "    width: 32px;\n",
              "  }\n",
              "\n",
              "  .colab-df-quickchart:hover {\n",
              "    background-color: var(--hover-bg-color);\n",
              "    box-shadow: 0 1px 2px rgba(60, 64, 67, 0.3), 0 1px 3px 1px rgba(60, 64, 67, 0.15);\n",
              "    fill: var(--button-hover-fill-color);\n",
              "  }\n",
              "\n",
              "  .colab-df-quickchart-complete:disabled,\n",
              "  .colab-df-quickchart-complete:disabled:hover {\n",
              "    background-color: var(--disabled-bg-color);\n",
              "    fill: var(--disabled-fill-color);\n",
              "    box-shadow: none;\n",
              "  }\n",
              "\n",
              "  .colab-df-spinner {\n",
              "    border: 2px solid var(--fill-color);\n",
              "    border-color: transparent;\n",
              "    border-bottom-color: var(--fill-color);\n",
              "    animation:\n",
              "      spin 1s steps(1) infinite;\n",
              "  }\n",
              "\n",
              "  @keyframes spin {\n",
              "    0% {\n",
              "      border-color: transparent;\n",
              "      border-bottom-color: var(--fill-color);\n",
              "      border-left-color: var(--fill-color);\n",
              "    }\n",
              "    20% {\n",
              "      border-color: transparent;\n",
              "      border-left-color: var(--fill-color);\n",
              "      border-top-color: var(--fill-color);\n",
              "    }\n",
              "    30% {\n",
              "      border-color: transparent;\n",
              "      border-left-color: var(--fill-color);\n",
              "      border-top-color: var(--fill-color);\n",
              "      border-right-color: var(--fill-color);\n",
              "    }\n",
              "    40% {\n",
              "      border-color: transparent;\n",
              "      border-right-color: var(--fill-color);\n",
              "      border-top-color: var(--fill-color);\n",
              "    }\n",
              "    60% {\n",
              "      border-color: transparent;\n",
              "      border-right-color: var(--fill-color);\n",
              "    }\n",
              "    80% {\n",
              "      border-color: transparent;\n",
              "      border-right-color: var(--fill-color);\n",
              "      border-bottom-color: var(--fill-color);\n",
              "    }\n",
              "    90% {\n",
              "      border-color: transparent;\n",
              "      border-bottom-color: var(--fill-color);\n",
              "    }\n",
              "  }\n",
              "</style>\n",
              "\n",
              "  <script>\n",
              "    async function quickchart(key) {\n",
              "      const quickchartButtonEl =\n",
              "        document.querySelector('#' + key + ' button');\n",
              "      quickchartButtonEl.disabled = true;  // To prevent multiple clicks.\n",
              "      quickchartButtonEl.classList.add('colab-df-spinner');\n",
              "      try {\n",
              "        const charts = await google.colab.kernel.invokeFunction(\n",
              "            'suggestCharts', [key], {});\n",
              "      } catch (error) {\n",
              "        console.error('Error during call to suggestCharts:', error);\n",
              "      }\n",
              "      quickchartButtonEl.classList.remove('colab-df-spinner');\n",
              "      quickchartButtonEl.classList.add('colab-df-quickchart-complete');\n",
              "    }\n",
              "    (() => {\n",
              "      let quickchartButtonEl =\n",
              "        document.querySelector('#df-d8a717a2-4e04-49e3-9a33-bad24818f429 button');\n",
              "      quickchartButtonEl.style.display =\n",
              "        google.colab.kernel.accessAllowed ? 'block' : 'none';\n",
              "    })();\n",
              "  </script>\n",
              "</div>\n",
              "    </div>\n",
              "  </div>\n"
            ],
            "application/vnd.google.colaboratory.intrinsic+json": {
              "type": "dataframe",
              "variable_name": "data",
              "summary": "{\n  \"name\": \"data\",\n  \"rows\": 10000,\n  \"fields\": [\n    {\n      \"column\": \"Sistema_Colapsa\",\n      \"properties\": {\n        \"dtype\": \"number\",\n        \"std\": 0,\n        \"min\": 0,\n        \"max\": 1,\n        \"num_unique_values\": 2,\n        \"samples\": [\n          1,\n          0\n        ],\n        \"semantic_type\": \"\",\n        \"description\": \"\"\n      }\n    },\n    {\n      \"column\": \"Consultas\",\n      \"properties\": {\n        \"dtype\": \"number\",\n        \"std\": 28,\n        \"min\": 0,\n        \"max\": 99,\n        \"num_unique_values\": 100,\n        \"samples\": [\n          26,\n          68\n        ],\n        \"semantic_type\": \"\",\n        \"description\": \"\"\n      }\n    },\n    {\n      \"column\": \"Tiempo_Promedio\",\n      \"properties\": {\n        \"dtype\": \"number\",\n        \"std\": 2.582391335319925,\n        \"min\": 1.0000361051700946,\n        \"max\": 9.999738516247556,\n        \"num_unique_values\": 10000,\n        \"samples\": [\n          7.223635146414425,\n          5.441143491608753\n        ],\n        \"semantic_type\": \"\",\n        \"description\": \"\"\n      }\n    },\n    {\n      \"column\": \"Usuarios_Registrados\",\n      \"properties\": {\n        \"dtype\": \"number\",\n        \"std\": 0,\n        \"min\": 0,\n        \"max\": 1,\n        \"num_unique_values\": 2,\n        \"samples\": [\n          1,\n          0\n        ],\n        \"semantic_type\": \"\",\n        \"description\": \"\"\n      }\n    },\n    {\n      \"column\": \"Errores\",\n      \"properties\": {\n        \"dtype\": \"number\",\n        \"std\": 1,\n        \"min\": 0,\n        \"max\": 4,\n        \"num_unique_values\": 5,\n        \"samples\": [\n          2,\n          0\n        ],\n        \"semantic_type\": \"\",\n        \"description\": \"\"\n      }\n    },\n    {\n      \"column\": \"Capacidad_Servidores\",\n      \"properties\": {\n        \"dtype\": \"number\",\n        \"std\": 2,\n        \"min\": 1,\n        \"max\": 10,\n        \"num_unique_values\": 10,\n        \"samples\": [\n          7,\n          9\n        ],\n        \"semantic_type\": \"\",\n        \"description\": \"\"\n      }\n    }\n  ]\n}"
            }
          },
          "metadata": {},
          "execution_count": 2
        }
      ]
    },
    {
      "cell_type": "markdown",
      "source": [
        "##Prueba de diferencia de medias"
      ],
      "metadata": {
        "id": "-n5NeRkSYLfz"
      }
    },
    {
      "cell_type": "markdown",
      "source": [
        "Dividimos la base de entregada en dos, tomando cuando Sistema_Colapsa es igual a 0, y cuando es igual a 1 por separado"
      ],
      "metadata": {
        "id": "tpgs7IRqUB4c"
      }
    },
    {
      "cell_type": "markdown",
      "source": [
        "Grupo sistemas de informacion que colapsan"
      ],
      "metadata": {
        "id": "YdK6fDWYYSmT"
      }
    },
    {
      "cell_type": "code",
      "source": [
        "## sistemas de informacion que colapsan\n",
        "data_c = data[data[\"Sistema_Colapsa\"] == 1];data_c"
      ],
      "metadata": {
        "id": "w6u3nTQ5eFxf",
        "colab": {
          "base_uri": "https://localhost:8080/",
          "height": 424
        },
        "outputId": "469ed18a-3a54-4e6b-b88b-33fc3ca28ad6"
      },
      "execution_count": 3,
      "outputs": [
        {
          "output_type": "execute_result",
          "data": {
            "text/plain": [
              "      Sistema_Colapsa  Consultas  Tiempo_Promedio  Usuarios_Registrados  \\\n",
              "2                   1         64         6.805668                     0   \n",
              "3                   1         67         7.489474                     1   \n",
              "4                   1         67         6.666282                     0   \n",
              "6                   1         83         7.953420                     1   \n",
              "9                   1         87         6.279216                     0   \n",
              "...               ...        ...              ...                   ...   \n",
              "9984                1         90         1.575732                     0   \n",
              "9991                1         85         2.442975                     0   \n",
              "9992                1         69         1.101403                     1   \n",
              "9994                1         75         1.475641                     1   \n",
              "9998                1         72         1.914783                     0   \n",
              "\n",
              "      Errores  Capacidad_Servidores  \n",
              "2           4                     2  \n",
              "3           4                     1  \n",
              "4           1                     5  \n",
              "6           2                     6  \n",
              "9           4                     6  \n",
              "...       ...                   ...  \n",
              "9984        0                     6  \n",
              "9991        0                     1  \n",
              "9992        4                     4  \n",
              "9994        1                     5  \n",
              "9998        2                     1  \n",
              "\n",
              "[4827 rows x 6 columns]"
            ],
            "text/html": [
              "\n",
              "  <div id=\"df-5f526e99-8a55-40a0-b613-017f75e4bc51\" class=\"colab-df-container\">\n",
              "    <div>\n",
              "<style scoped>\n",
              "    .dataframe tbody tr th:only-of-type {\n",
              "        vertical-align: middle;\n",
              "    }\n",
              "\n",
              "    .dataframe tbody tr th {\n",
              "        vertical-align: top;\n",
              "    }\n",
              "\n",
              "    .dataframe thead th {\n",
              "        text-align: right;\n",
              "    }\n",
              "</style>\n",
              "<table border=\"1\" class=\"dataframe\">\n",
              "  <thead>\n",
              "    <tr style=\"text-align: right;\">\n",
              "      <th></th>\n",
              "      <th>Sistema_Colapsa</th>\n",
              "      <th>Consultas</th>\n",
              "      <th>Tiempo_Promedio</th>\n",
              "      <th>Usuarios_Registrados</th>\n",
              "      <th>Errores</th>\n",
              "      <th>Capacidad_Servidores</th>\n",
              "    </tr>\n",
              "  </thead>\n",
              "  <tbody>\n",
              "    <tr>\n",
              "      <th>2</th>\n",
              "      <td>1</td>\n",
              "      <td>64</td>\n",
              "      <td>6.805668</td>\n",
              "      <td>0</td>\n",
              "      <td>4</td>\n",
              "      <td>2</td>\n",
              "    </tr>\n",
              "    <tr>\n",
              "      <th>3</th>\n",
              "      <td>1</td>\n",
              "      <td>67</td>\n",
              "      <td>7.489474</td>\n",
              "      <td>1</td>\n",
              "      <td>4</td>\n",
              "      <td>1</td>\n",
              "    </tr>\n",
              "    <tr>\n",
              "      <th>4</th>\n",
              "      <td>1</td>\n",
              "      <td>67</td>\n",
              "      <td>6.666282</td>\n",
              "      <td>0</td>\n",
              "      <td>1</td>\n",
              "      <td>5</td>\n",
              "    </tr>\n",
              "    <tr>\n",
              "      <th>6</th>\n",
              "      <td>1</td>\n",
              "      <td>83</td>\n",
              "      <td>7.953420</td>\n",
              "      <td>1</td>\n",
              "      <td>2</td>\n",
              "      <td>6</td>\n",
              "    </tr>\n",
              "    <tr>\n",
              "      <th>9</th>\n",
              "      <td>1</td>\n",
              "      <td>87</td>\n",
              "      <td>6.279216</td>\n",
              "      <td>0</td>\n",
              "      <td>4</td>\n",
              "      <td>6</td>\n",
              "    </tr>\n",
              "    <tr>\n",
              "      <th>...</th>\n",
              "      <td>...</td>\n",
              "      <td>...</td>\n",
              "      <td>...</td>\n",
              "      <td>...</td>\n",
              "      <td>...</td>\n",
              "      <td>...</td>\n",
              "    </tr>\n",
              "    <tr>\n",
              "      <th>9984</th>\n",
              "      <td>1</td>\n",
              "      <td>90</td>\n",
              "      <td>1.575732</td>\n",
              "      <td>0</td>\n",
              "      <td>0</td>\n",
              "      <td>6</td>\n",
              "    </tr>\n",
              "    <tr>\n",
              "      <th>9991</th>\n",
              "      <td>1</td>\n",
              "      <td>85</td>\n",
              "      <td>2.442975</td>\n",
              "      <td>0</td>\n",
              "      <td>0</td>\n",
              "      <td>1</td>\n",
              "    </tr>\n",
              "    <tr>\n",
              "      <th>9992</th>\n",
              "      <td>1</td>\n",
              "      <td>69</td>\n",
              "      <td>1.101403</td>\n",
              "      <td>1</td>\n",
              "      <td>4</td>\n",
              "      <td>4</td>\n",
              "    </tr>\n",
              "    <tr>\n",
              "      <th>9994</th>\n",
              "      <td>1</td>\n",
              "      <td>75</td>\n",
              "      <td>1.475641</td>\n",
              "      <td>1</td>\n",
              "      <td>1</td>\n",
              "      <td>5</td>\n",
              "    </tr>\n",
              "    <tr>\n",
              "      <th>9998</th>\n",
              "      <td>1</td>\n",
              "      <td>72</td>\n",
              "      <td>1.914783</td>\n",
              "      <td>0</td>\n",
              "      <td>2</td>\n",
              "      <td>1</td>\n",
              "    </tr>\n",
              "  </tbody>\n",
              "</table>\n",
              "<p>4827 rows × 6 columns</p>\n",
              "</div>\n",
              "    <div class=\"colab-df-buttons\">\n",
              "\n",
              "  <div class=\"colab-df-container\">\n",
              "    <button class=\"colab-df-convert\" onclick=\"convertToInteractive('df-5f526e99-8a55-40a0-b613-017f75e4bc51')\"\n",
              "            title=\"Convert this dataframe to an interactive table.\"\n",
              "            style=\"display:none;\">\n",
              "\n",
              "  <svg xmlns=\"http://www.w3.org/2000/svg\" height=\"24px\" viewBox=\"0 -960 960 960\">\n",
              "    <path d=\"M120-120v-720h720v720H120Zm60-500h600v-160H180v160Zm220 220h160v-160H400v160Zm0 220h160v-160H400v160ZM180-400h160v-160H180v160Zm440 0h160v-160H620v160ZM180-180h160v-160H180v160Zm440 0h160v-160H620v160Z\"/>\n",
              "  </svg>\n",
              "    </button>\n",
              "\n",
              "  <style>\n",
              "    .colab-df-container {\n",
              "      display:flex;\n",
              "      gap: 12px;\n",
              "    }\n",
              "\n",
              "    .colab-df-convert {\n",
              "      background-color: #E8F0FE;\n",
              "      border: none;\n",
              "      border-radius: 50%;\n",
              "      cursor: pointer;\n",
              "      display: none;\n",
              "      fill: #1967D2;\n",
              "      height: 32px;\n",
              "      padding: 0 0 0 0;\n",
              "      width: 32px;\n",
              "    }\n",
              "\n",
              "    .colab-df-convert:hover {\n",
              "      background-color: #E2EBFA;\n",
              "      box-shadow: 0px 1px 2px rgba(60, 64, 67, 0.3), 0px 1px 3px 1px rgba(60, 64, 67, 0.15);\n",
              "      fill: #174EA6;\n",
              "    }\n",
              "\n",
              "    .colab-df-buttons div {\n",
              "      margin-bottom: 4px;\n",
              "    }\n",
              "\n",
              "    [theme=dark] .colab-df-convert {\n",
              "      background-color: #3B4455;\n",
              "      fill: #D2E3FC;\n",
              "    }\n",
              "\n",
              "    [theme=dark] .colab-df-convert:hover {\n",
              "      background-color: #434B5C;\n",
              "      box-shadow: 0px 1px 3px 1px rgba(0, 0, 0, 0.15);\n",
              "      filter: drop-shadow(0px 1px 2px rgba(0, 0, 0, 0.3));\n",
              "      fill: #FFFFFF;\n",
              "    }\n",
              "  </style>\n",
              "\n",
              "    <script>\n",
              "      const buttonEl =\n",
              "        document.querySelector('#df-5f526e99-8a55-40a0-b613-017f75e4bc51 button.colab-df-convert');\n",
              "      buttonEl.style.display =\n",
              "        google.colab.kernel.accessAllowed ? 'block' : 'none';\n",
              "\n",
              "      async function convertToInteractive(key) {\n",
              "        const element = document.querySelector('#df-5f526e99-8a55-40a0-b613-017f75e4bc51');\n",
              "        const dataTable =\n",
              "          await google.colab.kernel.invokeFunction('convertToInteractive',\n",
              "                                                    [key], {});\n",
              "        if (!dataTable) return;\n",
              "\n",
              "        const docLinkHtml = 'Like what you see? Visit the ' +\n",
              "          '<a target=\"_blank\" href=https://colab.research.google.com/notebooks/data_table.ipynb>data table notebook</a>'\n",
              "          + ' to learn more about interactive tables.';\n",
              "        element.innerHTML = '';\n",
              "        dataTable['output_type'] = 'display_data';\n",
              "        await google.colab.output.renderOutput(dataTable, element);\n",
              "        const docLink = document.createElement('div');\n",
              "        docLink.innerHTML = docLinkHtml;\n",
              "        element.appendChild(docLink);\n",
              "      }\n",
              "    </script>\n",
              "  </div>\n",
              "\n",
              "\n",
              "<div id=\"df-e8bcc426-91c5-4f92-bde1-af2f84497443\">\n",
              "  <button class=\"colab-df-quickchart\" onclick=\"quickchart('df-e8bcc426-91c5-4f92-bde1-af2f84497443')\"\n",
              "            title=\"Suggest charts\"\n",
              "            style=\"display:none;\">\n",
              "\n",
              "<svg xmlns=\"http://www.w3.org/2000/svg\" height=\"24px\"viewBox=\"0 0 24 24\"\n",
              "     width=\"24px\">\n",
              "    <g>\n",
              "        <path d=\"M19 3H5c-1.1 0-2 .9-2 2v14c0 1.1.9 2 2 2h14c1.1 0 2-.9 2-2V5c0-1.1-.9-2-2-2zM9 17H7v-7h2v7zm4 0h-2V7h2v10zm4 0h-2v-4h2v4z\"/>\n",
              "    </g>\n",
              "</svg>\n",
              "  </button>\n",
              "\n",
              "<style>\n",
              "  .colab-df-quickchart {\n",
              "      --bg-color: #E8F0FE;\n",
              "      --fill-color: #1967D2;\n",
              "      --hover-bg-color: #E2EBFA;\n",
              "      --hover-fill-color: #174EA6;\n",
              "      --disabled-fill-color: #AAA;\n",
              "      --disabled-bg-color: #DDD;\n",
              "  }\n",
              "\n",
              "  [theme=dark] .colab-df-quickchart {\n",
              "      --bg-color: #3B4455;\n",
              "      --fill-color: #D2E3FC;\n",
              "      --hover-bg-color: #434B5C;\n",
              "      --hover-fill-color: #FFFFFF;\n",
              "      --disabled-bg-color: #3B4455;\n",
              "      --disabled-fill-color: #666;\n",
              "  }\n",
              "\n",
              "  .colab-df-quickchart {\n",
              "    background-color: var(--bg-color);\n",
              "    border: none;\n",
              "    border-radius: 50%;\n",
              "    cursor: pointer;\n",
              "    display: none;\n",
              "    fill: var(--fill-color);\n",
              "    height: 32px;\n",
              "    padding: 0;\n",
              "    width: 32px;\n",
              "  }\n",
              "\n",
              "  .colab-df-quickchart:hover {\n",
              "    background-color: var(--hover-bg-color);\n",
              "    box-shadow: 0 1px 2px rgba(60, 64, 67, 0.3), 0 1px 3px 1px rgba(60, 64, 67, 0.15);\n",
              "    fill: var(--button-hover-fill-color);\n",
              "  }\n",
              "\n",
              "  .colab-df-quickchart-complete:disabled,\n",
              "  .colab-df-quickchart-complete:disabled:hover {\n",
              "    background-color: var(--disabled-bg-color);\n",
              "    fill: var(--disabled-fill-color);\n",
              "    box-shadow: none;\n",
              "  }\n",
              "\n",
              "  .colab-df-spinner {\n",
              "    border: 2px solid var(--fill-color);\n",
              "    border-color: transparent;\n",
              "    border-bottom-color: var(--fill-color);\n",
              "    animation:\n",
              "      spin 1s steps(1) infinite;\n",
              "  }\n",
              "\n",
              "  @keyframes spin {\n",
              "    0% {\n",
              "      border-color: transparent;\n",
              "      border-bottom-color: var(--fill-color);\n",
              "      border-left-color: var(--fill-color);\n",
              "    }\n",
              "    20% {\n",
              "      border-color: transparent;\n",
              "      border-left-color: var(--fill-color);\n",
              "      border-top-color: var(--fill-color);\n",
              "    }\n",
              "    30% {\n",
              "      border-color: transparent;\n",
              "      border-left-color: var(--fill-color);\n",
              "      border-top-color: var(--fill-color);\n",
              "      border-right-color: var(--fill-color);\n",
              "    }\n",
              "    40% {\n",
              "      border-color: transparent;\n",
              "      border-right-color: var(--fill-color);\n",
              "      border-top-color: var(--fill-color);\n",
              "    }\n",
              "    60% {\n",
              "      border-color: transparent;\n",
              "      border-right-color: var(--fill-color);\n",
              "    }\n",
              "    80% {\n",
              "      border-color: transparent;\n",
              "      border-right-color: var(--fill-color);\n",
              "      border-bottom-color: var(--fill-color);\n",
              "    }\n",
              "    90% {\n",
              "      border-color: transparent;\n",
              "      border-bottom-color: var(--fill-color);\n",
              "    }\n",
              "  }\n",
              "</style>\n",
              "\n",
              "  <script>\n",
              "    async function quickchart(key) {\n",
              "      const quickchartButtonEl =\n",
              "        document.querySelector('#' + key + ' button');\n",
              "      quickchartButtonEl.disabled = true;  // To prevent multiple clicks.\n",
              "      quickchartButtonEl.classList.add('colab-df-spinner');\n",
              "      try {\n",
              "        const charts = await google.colab.kernel.invokeFunction(\n",
              "            'suggestCharts', [key], {});\n",
              "      } catch (error) {\n",
              "        console.error('Error during call to suggestCharts:', error);\n",
              "      }\n",
              "      quickchartButtonEl.classList.remove('colab-df-spinner');\n",
              "      quickchartButtonEl.classList.add('colab-df-quickchart-complete');\n",
              "    }\n",
              "    (() => {\n",
              "      let quickchartButtonEl =\n",
              "        document.querySelector('#df-e8bcc426-91c5-4f92-bde1-af2f84497443 button');\n",
              "      quickchartButtonEl.style.display =\n",
              "        google.colab.kernel.accessAllowed ? 'block' : 'none';\n",
              "    })();\n",
              "  </script>\n",
              "</div>\n",
              "    </div>\n",
              "  </div>\n"
            ],
            "application/vnd.google.colaboratory.intrinsic+json": {
              "type": "dataframe",
              "variable_name": "data_c",
              "summary": "{\n  \"name\": \"data_c\",\n  \"rows\": 4827,\n  \"fields\": [\n    {\n      \"column\": \"Sistema_Colapsa\",\n      \"properties\": {\n        \"dtype\": \"number\",\n        \"std\": 0,\n        \"min\": 1,\n        \"max\": 1,\n        \"num_unique_values\": 1,\n        \"samples\": [\n          1\n        ],\n        \"semantic_type\": \"\",\n        \"description\": \"\"\n      }\n    },\n    {\n      \"column\": \"Consultas\",\n      \"properties\": {\n        \"dtype\": \"number\",\n        \"std\": 14,\n        \"min\": 51,\n        \"max\": 99,\n        \"num_unique_values\": 49,\n        \"samples\": [\n          79\n        ],\n        \"semantic_type\": \"\",\n        \"description\": \"\"\n      }\n    },\n    {\n      \"column\": \"Tiempo_Promedio\",\n      \"properties\": {\n        \"dtype\": \"number\",\n        \"std\": 2.585259886647766,\n        \"min\": 1.0002931790945095,\n        \"max\": 9.999067705034264,\n        \"num_unique_values\": 4827,\n        \"samples\": [\n          8.088317649770712\n        ],\n        \"semantic_type\": \"\",\n        \"description\": \"\"\n      }\n    },\n    {\n      \"column\": \"Usuarios_Registrados\",\n      \"properties\": {\n        \"dtype\": \"number\",\n        \"std\": 0,\n        \"min\": 0,\n        \"max\": 1,\n        \"num_unique_values\": 2,\n        \"samples\": [\n          1\n        ],\n        \"semantic_type\": \"\",\n        \"description\": \"\"\n      }\n    },\n    {\n      \"column\": \"Errores\",\n      \"properties\": {\n        \"dtype\": \"number\",\n        \"std\": 1,\n        \"min\": 0,\n        \"max\": 4,\n        \"num_unique_values\": 5,\n        \"samples\": [\n          1\n        ],\n        \"semantic_type\": \"\",\n        \"description\": \"\"\n      }\n    },\n    {\n      \"column\": \"Capacidad_Servidores\",\n      \"properties\": {\n        \"dtype\": \"number\",\n        \"std\": 2,\n        \"min\": 1,\n        \"max\": 10,\n        \"num_unique_values\": 10,\n        \"samples\": [\n          10\n        ],\n        \"semantic_type\": \"\",\n        \"description\": \"\"\n      }\n    }\n  ]\n}"
            }
          },
          "metadata": {},
          "execution_count": 3
        }
      ]
    },
    {
      "cell_type": "markdown",
      "source": [
        "Grupo sistemas de informacion que no colapsan"
      ],
      "metadata": {
        "id": "3pjHov5OYXvm"
      }
    },
    {
      "cell_type": "code",
      "source": [
        "## sistemas de informacion que no colapsan\n",
        "data_n_c = data[data[\"Sistema_Colapsa\"] == 0];data_n_c"
      ],
      "metadata": {
        "id": "58vM8EkSekh2",
        "colab": {
          "base_uri": "https://localhost:8080/",
          "height": 424
        },
        "outputId": "6758ba66-4bfd-480e-f457-63b5ddb42dd5"
      },
      "execution_count": 4,
      "outputs": [
        {
          "output_type": "execute_result",
          "data": {
            "text/plain": [
              "      Sistema_Colapsa  Consultas  Tiempo_Promedio  Usuarios_Registrados  \\\n",
              "0                   0         44         1.113479                     0   \n",
              "1                   0         47         2.186888                     0   \n",
              "5                   0          9         1.617588                     1   \n",
              "7                   0         21         5.646097                     1   \n",
              "8                   0         36         3.160718                     0   \n",
              "...               ...        ...              ...                   ...   \n",
              "9993                0         14         3.146247                     0   \n",
              "9995                0          7         1.796586                     0   \n",
              "9996                0         29         2.970983                     1   \n",
              "9997                0         39         4.563541                     1   \n",
              "9999                0         48         6.680941                     0   \n",
              "\n",
              "      Errores  Capacidad_Servidores  \n",
              "0           3                     5  \n",
              "1           2                     9  \n",
              "5           1                     3  \n",
              "7           2                     3  \n",
              "8           0                     6  \n",
              "...       ...                   ...  \n",
              "9993        3                    10  \n",
              "9995        4                     1  \n",
              "9996        2                     9  \n",
              "9997        4                     8  \n",
              "9999        0                    10  \n",
              "\n",
              "[5173 rows x 6 columns]"
            ],
            "text/html": [
              "\n",
              "  <div id=\"df-570d86f9-3243-4ed8-b0e9-5921ed0a21ca\" class=\"colab-df-container\">\n",
              "    <div>\n",
              "<style scoped>\n",
              "    .dataframe tbody tr th:only-of-type {\n",
              "        vertical-align: middle;\n",
              "    }\n",
              "\n",
              "    .dataframe tbody tr th {\n",
              "        vertical-align: top;\n",
              "    }\n",
              "\n",
              "    .dataframe thead th {\n",
              "        text-align: right;\n",
              "    }\n",
              "</style>\n",
              "<table border=\"1\" class=\"dataframe\">\n",
              "  <thead>\n",
              "    <tr style=\"text-align: right;\">\n",
              "      <th></th>\n",
              "      <th>Sistema_Colapsa</th>\n",
              "      <th>Consultas</th>\n",
              "      <th>Tiempo_Promedio</th>\n",
              "      <th>Usuarios_Registrados</th>\n",
              "      <th>Errores</th>\n",
              "      <th>Capacidad_Servidores</th>\n",
              "    </tr>\n",
              "  </thead>\n",
              "  <tbody>\n",
              "    <tr>\n",
              "      <th>0</th>\n",
              "      <td>0</td>\n",
              "      <td>44</td>\n",
              "      <td>1.113479</td>\n",
              "      <td>0</td>\n",
              "      <td>3</td>\n",
              "      <td>5</td>\n",
              "    </tr>\n",
              "    <tr>\n",
              "      <th>1</th>\n",
              "      <td>0</td>\n",
              "      <td>47</td>\n",
              "      <td>2.186888</td>\n",
              "      <td>0</td>\n",
              "      <td>2</td>\n",
              "      <td>9</td>\n",
              "    </tr>\n",
              "    <tr>\n",
              "      <th>5</th>\n",
              "      <td>0</td>\n",
              "      <td>9</td>\n",
              "      <td>1.617588</td>\n",
              "      <td>1</td>\n",
              "      <td>1</td>\n",
              "      <td>3</td>\n",
              "    </tr>\n",
              "    <tr>\n",
              "      <th>7</th>\n",
              "      <td>0</td>\n",
              "      <td>21</td>\n",
              "      <td>5.646097</td>\n",
              "      <td>1</td>\n",
              "      <td>2</td>\n",
              "      <td>3</td>\n",
              "    </tr>\n",
              "    <tr>\n",
              "      <th>8</th>\n",
              "      <td>0</td>\n",
              "      <td>36</td>\n",
              "      <td>3.160718</td>\n",
              "      <td>0</td>\n",
              "      <td>0</td>\n",
              "      <td>6</td>\n",
              "    </tr>\n",
              "    <tr>\n",
              "      <th>...</th>\n",
              "      <td>...</td>\n",
              "      <td>...</td>\n",
              "      <td>...</td>\n",
              "      <td>...</td>\n",
              "      <td>...</td>\n",
              "      <td>...</td>\n",
              "    </tr>\n",
              "    <tr>\n",
              "      <th>9993</th>\n",
              "      <td>0</td>\n",
              "      <td>14</td>\n",
              "      <td>3.146247</td>\n",
              "      <td>0</td>\n",
              "      <td>3</td>\n",
              "      <td>10</td>\n",
              "    </tr>\n",
              "    <tr>\n",
              "      <th>9995</th>\n",
              "      <td>0</td>\n",
              "      <td>7</td>\n",
              "      <td>1.796586</td>\n",
              "      <td>0</td>\n",
              "      <td>4</td>\n",
              "      <td>1</td>\n",
              "    </tr>\n",
              "    <tr>\n",
              "      <th>9996</th>\n",
              "      <td>0</td>\n",
              "      <td>29</td>\n",
              "      <td>2.970983</td>\n",
              "      <td>1</td>\n",
              "      <td>2</td>\n",
              "      <td>9</td>\n",
              "    </tr>\n",
              "    <tr>\n",
              "      <th>9997</th>\n",
              "      <td>0</td>\n",
              "      <td>39</td>\n",
              "      <td>4.563541</td>\n",
              "      <td>1</td>\n",
              "      <td>4</td>\n",
              "      <td>8</td>\n",
              "    </tr>\n",
              "    <tr>\n",
              "      <th>9999</th>\n",
              "      <td>0</td>\n",
              "      <td>48</td>\n",
              "      <td>6.680941</td>\n",
              "      <td>0</td>\n",
              "      <td>0</td>\n",
              "      <td>10</td>\n",
              "    </tr>\n",
              "  </tbody>\n",
              "</table>\n",
              "<p>5173 rows × 6 columns</p>\n",
              "</div>\n",
              "    <div class=\"colab-df-buttons\">\n",
              "\n",
              "  <div class=\"colab-df-container\">\n",
              "    <button class=\"colab-df-convert\" onclick=\"convertToInteractive('df-570d86f9-3243-4ed8-b0e9-5921ed0a21ca')\"\n",
              "            title=\"Convert this dataframe to an interactive table.\"\n",
              "            style=\"display:none;\">\n",
              "\n",
              "  <svg xmlns=\"http://www.w3.org/2000/svg\" height=\"24px\" viewBox=\"0 -960 960 960\">\n",
              "    <path d=\"M120-120v-720h720v720H120Zm60-500h600v-160H180v160Zm220 220h160v-160H400v160Zm0 220h160v-160H400v160ZM180-400h160v-160H180v160Zm440 0h160v-160H620v160ZM180-180h160v-160H180v160Zm440 0h160v-160H620v160Z\"/>\n",
              "  </svg>\n",
              "    </button>\n",
              "\n",
              "  <style>\n",
              "    .colab-df-container {\n",
              "      display:flex;\n",
              "      gap: 12px;\n",
              "    }\n",
              "\n",
              "    .colab-df-convert {\n",
              "      background-color: #E8F0FE;\n",
              "      border: none;\n",
              "      border-radius: 50%;\n",
              "      cursor: pointer;\n",
              "      display: none;\n",
              "      fill: #1967D2;\n",
              "      height: 32px;\n",
              "      padding: 0 0 0 0;\n",
              "      width: 32px;\n",
              "    }\n",
              "\n",
              "    .colab-df-convert:hover {\n",
              "      background-color: #E2EBFA;\n",
              "      box-shadow: 0px 1px 2px rgba(60, 64, 67, 0.3), 0px 1px 3px 1px rgba(60, 64, 67, 0.15);\n",
              "      fill: #174EA6;\n",
              "    }\n",
              "\n",
              "    .colab-df-buttons div {\n",
              "      margin-bottom: 4px;\n",
              "    }\n",
              "\n",
              "    [theme=dark] .colab-df-convert {\n",
              "      background-color: #3B4455;\n",
              "      fill: #D2E3FC;\n",
              "    }\n",
              "\n",
              "    [theme=dark] .colab-df-convert:hover {\n",
              "      background-color: #434B5C;\n",
              "      box-shadow: 0px 1px 3px 1px rgba(0, 0, 0, 0.15);\n",
              "      filter: drop-shadow(0px 1px 2px rgba(0, 0, 0, 0.3));\n",
              "      fill: #FFFFFF;\n",
              "    }\n",
              "  </style>\n",
              "\n",
              "    <script>\n",
              "      const buttonEl =\n",
              "        document.querySelector('#df-570d86f9-3243-4ed8-b0e9-5921ed0a21ca button.colab-df-convert');\n",
              "      buttonEl.style.display =\n",
              "        google.colab.kernel.accessAllowed ? 'block' : 'none';\n",
              "\n",
              "      async function convertToInteractive(key) {\n",
              "        const element = document.querySelector('#df-570d86f9-3243-4ed8-b0e9-5921ed0a21ca');\n",
              "        const dataTable =\n",
              "          await google.colab.kernel.invokeFunction('convertToInteractive',\n",
              "                                                    [key], {});\n",
              "        if (!dataTable) return;\n",
              "\n",
              "        const docLinkHtml = 'Like what you see? Visit the ' +\n",
              "          '<a target=\"_blank\" href=https://colab.research.google.com/notebooks/data_table.ipynb>data table notebook</a>'\n",
              "          + ' to learn more about interactive tables.';\n",
              "        element.innerHTML = '';\n",
              "        dataTable['output_type'] = 'display_data';\n",
              "        await google.colab.output.renderOutput(dataTable, element);\n",
              "        const docLink = document.createElement('div');\n",
              "        docLink.innerHTML = docLinkHtml;\n",
              "        element.appendChild(docLink);\n",
              "      }\n",
              "    </script>\n",
              "  </div>\n",
              "\n",
              "\n",
              "<div id=\"df-95d2cf78-3195-4392-9bd8-347da48f0cac\">\n",
              "  <button class=\"colab-df-quickchart\" onclick=\"quickchart('df-95d2cf78-3195-4392-9bd8-347da48f0cac')\"\n",
              "            title=\"Suggest charts\"\n",
              "            style=\"display:none;\">\n",
              "\n",
              "<svg xmlns=\"http://www.w3.org/2000/svg\" height=\"24px\"viewBox=\"0 0 24 24\"\n",
              "     width=\"24px\">\n",
              "    <g>\n",
              "        <path d=\"M19 3H5c-1.1 0-2 .9-2 2v14c0 1.1.9 2 2 2h14c1.1 0 2-.9 2-2V5c0-1.1-.9-2-2-2zM9 17H7v-7h2v7zm4 0h-2V7h2v10zm4 0h-2v-4h2v4z\"/>\n",
              "    </g>\n",
              "</svg>\n",
              "  </button>\n",
              "\n",
              "<style>\n",
              "  .colab-df-quickchart {\n",
              "      --bg-color: #E8F0FE;\n",
              "      --fill-color: #1967D2;\n",
              "      --hover-bg-color: #E2EBFA;\n",
              "      --hover-fill-color: #174EA6;\n",
              "      --disabled-fill-color: #AAA;\n",
              "      --disabled-bg-color: #DDD;\n",
              "  }\n",
              "\n",
              "  [theme=dark] .colab-df-quickchart {\n",
              "      --bg-color: #3B4455;\n",
              "      --fill-color: #D2E3FC;\n",
              "      --hover-bg-color: #434B5C;\n",
              "      --hover-fill-color: #FFFFFF;\n",
              "      --disabled-bg-color: #3B4455;\n",
              "      --disabled-fill-color: #666;\n",
              "  }\n",
              "\n",
              "  .colab-df-quickchart {\n",
              "    background-color: var(--bg-color);\n",
              "    border: none;\n",
              "    border-radius: 50%;\n",
              "    cursor: pointer;\n",
              "    display: none;\n",
              "    fill: var(--fill-color);\n",
              "    height: 32px;\n",
              "    padding: 0;\n",
              "    width: 32px;\n",
              "  }\n",
              "\n",
              "  .colab-df-quickchart:hover {\n",
              "    background-color: var(--hover-bg-color);\n",
              "    box-shadow: 0 1px 2px rgba(60, 64, 67, 0.3), 0 1px 3px 1px rgba(60, 64, 67, 0.15);\n",
              "    fill: var(--button-hover-fill-color);\n",
              "  }\n",
              "\n",
              "  .colab-df-quickchart-complete:disabled,\n",
              "  .colab-df-quickchart-complete:disabled:hover {\n",
              "    background-color: var(--disabled-bg-color);\n",
              "    fill: var(--disabled-fill-color);\n",
              "    box-shadow: none;\n",
              "  }\n",
              "\n",
              "  .colab-df-spinner {\n",
              "    border: 2px solid var(--fill-color);\n",
              "    border-color: transparent;\n",
              "    border-bottom-color: var(--fill-color);\n",
              "    animation:\n",
              "      spin 1s steps(1) infinite;\n",
              "  }\n",
              "\n",
              "  @keyframes spin {\n",
              "    0% {\n",
              "      border-color: transparent;\n",
              "      border-bottom-color: var(--fill-color);\n",
              "      border-left-color: var(--fill-color);\n",
              "    }\n",
              "    20% {\n",
              "      border-color: transparent;\n",
              "      border-left-color: var(--fill-color);\n",
              "      border-top-color: var(--fill-color);\n",
              "    }\n",
              "    30% {\n",
              "      border-color: transparent;\n",
              "      border-left-color: var(--fill-color);\n",
              "      border-top-color: var(--fill-color);\n",
              "      border-right-color: var(--fill-color);\n",
              "    }\n",
              "    40% {\n",
              "      border-color: transparent;\n",
              "      border-right-color: var(--fill-color);\n",
              "      border-top-color: var(--fill-color);\n",
              "    }\n",
              "    60% {\n",
              "      border-color: transparent;\n",
              "      border-right-color: var(--fill-color);\n",
              "    }\n",
              "    80% {\n",
              "      border-color: transparent;\n",
              "      border-right-color: var(--fill-color);\n",
              "      border-bottom-color: var(--fill-color);\n",
              "    }\n",
              "    90% {\n",
              "      border-color: transparent;\n",
              "      border-bottom-color: var(--fill-color);\n",
              "    }\n",
              "  }\n",
              "</style>\n",
              "\n",
              "  <script>\n",
              "    async function quickchart(key) {\n",
              "      const quickchartButtonEl =\n",
              "        document.querySelector('#' + key + ' button');\n",
              "      quickchartButtonEl.disabled = true;  // To prevent multiple clicks.\n",
              "      quickchartButtonEl.classList.add('colab-df-spinner');\n",
              "      try {\n",
              "        const charts = await google.colab.kernel.invokeFunction(\n",
              "            'suggestCharts', [key], {});\n",
              "      } catch (error) {\n",
              "        console.error('Error during call to suggestCharts:', error);\n",
              "      }\n",
              "      quickchartButtonEl.classList.remove('colab-df-spinner');\n",
              "      quickchartButtonEl.classList.add('colab-df-quickchart-complete');\n",
              "    }\n",
              "    (() => {\n",
              "      let quickchartButtonEl =\n",
              "        document.querySelector('#df-95d2cf78-3195-4392-9bd8-347da48f0cac button');\n",
              "      quickchartButtonEl.style.display =\n",
              "        google.colab.kernel.accessAllowed ? 'block' : 'none';\n",
              "    })();\n",
              "  </script>\n",
              "</div>\n",
              "    </div>\n",
              "  </div>\n"
            ],
            "application/vnd.google.colaboratory.intrinsic+json": {
              "type": "dataframe",
              "variable_name": "data_n_c",
              "summary": "{\n  \"name\": \"data_n_c\",\n  \"rows\": 5173,\n  \"fields\": [\n    {\n      \"column\": \"Sistema_Colapsa\",\n      \"properties\": {\n        \"dtype\": \"number\",\n        \"std\": 0,\n        \"min\": 0,\n        \"max\": 0,\n        \"num_unique_values\": 1,\n        \"samples\": [\n          0\n        ],\n        \"semantic_type\": \"\",\n        \"description\": \"\"\n      }\n    },\n    {\n      \"column\": \"Consultas\",\n      \"properties\": {\n        \"dtype\": \"number\",\n        \"std\": 14,\n        \"min\": 0,\n        \"max\": 50,\n        \"num_unique_values\": 51,\n        \"samples\": [\n          26\n        ],\n        \"semantic_type\": \"\",\n        \"description\": \"\"\n      }\n    },\n    {\n      \"column\": \"Tiempo_Promedio\",\n      \"properties\": {\n        \"dtype\": \"number\",\n        \"std\": 2.579961265809792,\n        \"min\": 1.0000361051700946,\n        \"max\": 9.999738516247556,\n        \"num_unique_values\": 5173,\n        \"samples\": [\n          6.4735694220662525\n        ],\n        \"semantic_type\": \"\",\n        \"description\": \"\"\n      }\n    },\n    {\n      \"column\": \"Usuarios_Registrados\",\n      \"properties\": {\n        \"dtype\": \"number\",\n        \"std\": 0,\n        \"min\": 0,\n        \"max\": 1,\n        \"num_unique_values\": 2,\n        \"samples\": [\n          1\n        ],\n        \"semantic_type\": \"\",\n        \"description\": \"\"\n      }\n    },\n    {\n      \"column\": \"Errores\",\n      \"properties\": {\n        \"dtype\": \"number\",\n        \"std\": 1,\n        \"min\": 0,\n        \"max\": 4,\n        \"num_unique_values\": 5,\n        \"samples\": [\n          2\n        ],\n        \"semantic_type\": \"\",\n        \"description\": \"\"\n      }\n    },\n    {\n      \"column\": \"Capacidad_Servidores\",\n      \"properties\": {\n        \"dtype\": \"number\",\n        \"std\": 2,\n        \"min\": 1,\n        \"max\": 10,\n        \"num_unique_values\": 10,\n        \"samples\": [\n          8\n        ],\n        \"semantic_type\": \"\",\n        \"description\": \"\"\n      }\n    }\n  ]\n}"
            }
          },
          "metadata": {},
          "execution_count": 4
        }
      ]
    },
    {
      "cell_type": "markdown",
      "source": [
        "Medias muestrales variable explicativas por grupo que corresponden a los sistemas de informacion que colapsan y los que no"
      ],
      "metadata": {
        "id": "jBOZHO_7asXN"
      }
    },
    {
      "cell_type": "code",
      "source": [
        "np.mean(data_c[[\"Consultas\", \"Tiempo_Promedio\", \"Errores\", \"Capacidad_Servidores\"]])"
      ],
      "metadata": {
        "id": "hJZ0bkOqp6Nx",
        "colab": {
          "base_uri": "https://localhost:8080/"
        },
        "outputId": "ee407ccb-2408-416f-928d-65940f0ad965"
      },
      "execution_count": 5,
      "outputs": [
        {
          "output_type": "execute_result",
          "data": {
            "text/plain": [
              "22.004371542862362"
            ]
          },
          "metadata": {},
          "execution_count": 5
        }
      ]
    },
    {
      "cell_type": "code",
      "source": [
        "np.mean(data_n_c[[\"Consultas\", \"Tiempo_Promedio\", \"Errores\", \"Capacidad_Servidores\"]])"
      ],
      "metadata": {
        "id": "Z4S6ftrcqgJ9",
        "colab": {
          "base_uri": "https://localhost:8080/"
        },
        "outputId": "81127710-85e9-42cb-a8f8-33a85af7485f"
      },
      "execution_count": 6,
      "outputs": [
        {
          "output_type": "execute_result",
          "data": {
            "text/plain": [
              "9.492855553357895"
            ]
          },
          "metadata": {},
          "execution_count": 6
        }
      ]
    },
    {
      "cell_type": "markdown",
      "source": [
        "### Contraste de hipotesis diferencia de medias variable consultas"
      ],
      "metadata": {
        "id": "fDyYOF003yYx"
      }
    },
    {
      "cell_type": "code",
      "source": [
        "#Ho: μ1 - μ2 = 0\n",
        "#Ha: μ1 - μ2 ≠ 0\n",
        "\n",
        "## usamos pingouin para calcular p-value e intervalos de confianza, para contraste de hipotesis de\n",
        "## diferencia de medias\n",
        "pg.ttest(x=data_c[\"Consultas\"], y=data_n_c[\"Consultas\"], alternative='two-sided', correction=False)\n",
        "\n",
        "## tc > tt"
      ],
      "metadata": {
        "colab": {
          "base_uri": "https://localhost:8080/",
          "height": 115
        },
        "id": "GY8RU0LQhXED",
        "outputId": "f409f43a-64d0-463f-a217-2d8249e26a31"
      },
      "execution_count": 7,
      "outputs": [
        {
          "output_type": "stream",
          "name": "stderr",
          "text": [
            "/usr/local/lib/python3.10/dist-packages/pingouin/bayesian.py:152: RuntimeWarning: divide by zero encountered in scalar divide\n",
            "  bf10 = 1 / ((1 + t**2 / df) ** (-(df + 1) / 2) / integr)\n"
          ]
        },
        {
          "output_type": "execute_result",
          "data": {
            "text/plain": [
              "                 T   dof alternative  p-val           CI95%   cohen-d BF10  \\\n",
              "T-test  172.608864  9998   two-sided    0.0  [49.41, 50.55]  3.454246  inf   \n",
              "\n",
              "        power  \n",
              "T-test    1.0  "
            ],
            "text/html": [
              "\n",
              "  <div id=\"df-ee2efe20-9029-442a-ada6-21e1badb4696\" class=\"colab-df-container\">\n",
              "    <div>\n",
              "<style scoped>\n",
              "    .dataframe tbody tr th:only-of-type {\n",
              "        vertical-align: middle;\n",
              "    }\n",
              "\n",
              "    .dataframe tbody tr th {\n",
              "        vertical-align: top;\n",
              "    }\n",
              "\n",
              "    .dataframe thead th {\n",
              "        text-align: right;\n",
              "    }\n",
              "</style>\n",
              "<table border=\"1\" class=\"dataframe\">\n",
              "  <thead>\n",
              "    <tr style=\"text-align: right;\">\n",
              "      <th></th>\n",
              "      <th>T</th>\n",
              "      <th>dof</th>\n",
              "      <th>alternative</th>\n",
              "      <th>p-val</th>\n",
              "      <th>CI95%</th>\n",
              "      <th>cohen-d</th>\n",
              "      <th>BF10</th>\n",
              "      <th>power</th>\n",
              "    </tr>\n",
              "  </thead>\n",
              "  <tbody>\n",
              "    <tr>\n",
              "      <th>T-test</th>\n",
              "      <td>172.608864</td>\n",
              "      <td>9998</td>\n",
              "      <td>two-sided</td>\n",
              "      <td>0.0</td>\n",
              "      <td>[49.41, 50.55]</td>\n",
              "      <td>3.454246</td>\n",
              "      <td>inf</td>\n",
              "      <td>1.0</td>\n",
              "    </tr>\n",
              "  </tbody>\n",
              "</table>\n",
              "</div>\n",
              "    <div class=\"colab-df-buttons\">\n",
              "\n",
              "  <div class=\"colab-df-container\">\n",
              "    <button class=\"colab-df-convert\" onclick=\"convertToInteractive('df-ee2efe20-9029-442a-ada6-21e1badb4696')\"\n",
              "            title=\"Convert this dataframe to an interactive table.\"\n",
              "            style=\"display:none;\">\n",
              "\n",
              "  <svg xmlns=\"http://www.w3.org/2000/svg\" height=\"24px\" viewBox=\"0 -960 960 960\">\n",
              "    <path d=\"M120-120v-720h720v720H120Zm60-500h600v-160H180v160Zm220 220h160v-160H400v160Zm0 220h160v-160H400v160ZM180-400h160v-160H180v160Zm440 0h160v-160H620v160ZM180-180h160v-160H180v160Zm440 0h160v-160H620v160Z\"/>\n",
              "  </svg>\n",
              "    </button>\n",
              "\n",
              "  <style>\n",
              "    .colab-df-container {\n",
              "      display:flex;\n",
              "      gap: 12px;\n",
              "    }\n",
              "\n",
              "    .colab-df-convert {\n",
              "      background-color: #E8F0FE;\n",
              "      border: none;\n",
              "      border-radius: 50%;\n",
              "      cursor: pointer;\n",
              "      display: none;\n",
              "      fill: #1967D2;\n",
              "      height: 32px;\n",
              "      padding: 0 0 0 0;\n",
              "      width: 32px;\n",
              "    }\n",
              "\n",
              "    .colab-df-convert:hover {\n",
              "      background-color: #E2EBFA;\n",
              "      box-shadow: 0px 1px 2px rgba(60, 64, 67, 0.3), 0px 1px 3px 1px rgba(60, 64, 67, 0.15);\n",
              "      fill: #174EA6;\n",
              "    }\n",
              "\n",
              "    .colab-df-buttons div {\n",
              "      margin-bottom: 4px;\n",
              "    }\n",
              "\n",
              "    [theme=dark] .colab-df-convert {\n",
              "      background-color: #3B4455;\n",
              "      fill: #D2E3FC;\n",
              "    }\n",
              "\n",
              "    [theme=dark] .colab-df-convert:hover {\n",
              "      background-color: #434B5C;\n",
              "      box-shadow: 0px 1px 3px 1px rgba(0, 0, 0, 0.15);\n",
              "      filter: drop-shadow(0px 1px 2px rgba(0, 0, 0, 0.3));\n",
              "      fill: #FFFFFF;\n",
              "    }\n",
              "  </style>\n",
              "\n",
              "    <script>\n",
              "      const buttonEl =\n",
              "        document.querySelector('#df-ee2efe20-9029-442a-ada6-21e1badb4696 button.colab-df-convert');\n",
              "      buttonEl.style.display =\n",
              "        google.colab.kernel.accessAllowed ? 'block' : 'none';\n",
              "\n",
              "      async function convertToInteractive(key) {\n",
              "        const element = document.querySelector('#df-ee2efe20-9029-442a-ada6-21e1badb4696');\n",
              "        const dataTable =\n",
              "          await google.colab.kernel.invokeFunction('convertToInteractive',\n",
              "                                                    [key], {});\n",
              "        if (!dataTable) return;\n",
              "\n",
              "        const docLinkHtml = 'Like what you see? Visit the ' +\n",
              "          '<a target=\"_blank\" href=https://colab.research.google.com/notebooks/data_table.ipynb>data table notebook</a>'\n",
              "          + ' to learn more about interactive tables.';\n",
              "        element.innerHTML = '';\n",
              "        dataTable['output_type'] = 'display_data';\n",
              "        await google.colab.output.renderOutput(dataTable, element);\n",
              "        const docLink = document.createElement('div');\n",
              "        docLink.innerHTML = docLinkHtml;\n",
              "        element.appendChild(docLink);\n",
              "      }\n",
              "    </script>\n",
              "  </div>\n",
              "\n",
              "    </div>\n",
              "  </div>\n"
            ],
            "application/vnd.google.colaboratory.intrinsic+json": {
              "type": "dataframe",
              "summary": "{\n  \"name\": \"## tc > tt\",\n  \"rows\": 1,\n  \"fields\": [\n    {\n      \"column\": \"T\",\n      \"properties\": {\n        \"dtype\": \"number\",\n        \"std\": null,\n        \"min\": 172.6088640031522,\n        \"max\": 172.6088640031522,\n        \"num_unique_values\": 1,\n        \"samples\": [\n          172.6088640031522\n        ],\n        \"semantic_type\": \"\",\n        \"description\": \"\"\n      }\n    },\n    {\n      \"column\": \"dof\",\n      \"properties\": {\n        \"dtype\": \"number\",\n        \"std\": null,\n        \"min\": 9998,\n        \"max\": 9998,\n        \"num_unique_values\": 1,\n        \"samples\": [\n          9998\n        ],\n        \"semantic_type\": \"\",\n        \"description\": \"\"\n      }\n    },\n    {\n      \"column\": \"alternative\",\n      \"properties\": {\n        \"dtype\": \"string\",\n        \"num_unique_values\": 1,\n        \"samples\": [\n          \"two-sided\"\n        ],\n        \"semantic_type\": \"\",\n        \"description\": \"\"\n      }\n    },\n    {\n      \"column\": \"p-val\",\n      \"properties\": {\n        \"dtype\": \"number\",\n        \"std\": null,\n        \"min\": 0.0,\n        \"max\": 0.0,\n        \"num_unique_values\": 1,\n        \"samples\": [\n          0.0\n        ],\n        \"semantic_type\": \"\",\n        \"description\": \"\"\n      }\n    },\n    {\n      \"column\": \"CI95%\",\n      \"properties\": {\n        \"dtype\": \"object\",\n        \"semantic_type\": \"\",\n        \"description\": \"\"\n      }\n    },\n    {\n      \"column\": \"cohen-d\",\n      \"properties\": {\n        \"dtype\": \"number\",\n        \"std\": null,\n        \"min\": 3.454245541554664,\n        \"max\": 3.454245541554664,\n        \"num_unique_values\": 1,\n        \"samples\": [\n          3.454245541554664\n        ],\n        \"semantic_type\": \"\",\n        \"description\": \"\"\n      }\n    },\n    {\n      \"column\": \"BF10\",\n      \"properties\": {\n        \"dtype\": \"string\",\n        \"num_unique_values\": 1,\n        \"samples\": [\n          \"inf\"\n        ],\n        \"semantic_type\": \"\",\n        \"description\": \"\"\n      }\n    },\n    {\n      \"column\": \"power\",\n      \"properties\": {\n        \"dtype\": \"number\",\n        \"std\": null,\n        \"min\": 1.0,\n        \"max\": 1.0,\n        \"num_unique_values\": 1,\n        \"samples\": [\n          1.0\n        ],\n        \"semantic_type\": \"\",\n        \"description\": \"\"\n      }\n    }\n  ]\n}"
            }
          },
          "metadata": {},
          "execution_count": 7
        }
      ]
    },
    {
      "cell_type": "code",
      "source": [
        "##calculo estadistico t, realizado por formula\n",
        "\n",
        "num=np.mean(data_c[\"Consultas\"])-np.mean(data_n_c[\"Consultas\"]) ## diferencia de medias de medias (numerador)\n",
        "z1=np.var(data_c[\"Consultas\"])/4827 ## varianza consulta grupo 1 dividido tamaño muestra grupo1\n",
        "z2=np.var(data_n_c[\"Consultas\"])/5173 ## varianza consulta grupo 2 dividido tamaño muestra grupo2\n",
        "div= (z1+z2)**(1/2) ## raiz cuadrada de suma de varianza consulta grupo 1 dividido tamaño muestra\n",
        "                    ##grupo1 mas varianza consulta grupo 2 dividido tamaño muestra grupo2 (denominador)\n",
        "valor_t_consultas = num/div;valor_t_consultas ##numerador dividido denominador formula estadistic t\n",
        "                                              ## diferencia de  medias"
      ],
      "metadata": {
        "colab": {
          "base_uri": "https://localhost:8080/"
        },
        "id": "O_5fkePJajim",
        "outputId": "61161cc5-24e2-41fb-837c-64f6ef4ab93d"
      },
      "execution_count": 8,
      "outputs": [
        {
          "output_type": "execute_result",
          "data": {
            "text/plain": [
              "172.85062272393432"
            ]
          },
          "metadata": {},
          "execution_count": 8
        }
      ]
    },
    {
      "cell_type": "markdown",
      "source": [
        "Al visualizar el intervalo de confianza, con un 5% de significancia, se puede concluir que la variable ***Consultas*** tiene una diferencia de medias estadisticamente diferente de cero. Por lo que podria ser significativa para el modelo que se estimará.\n"
      ],
      "metadata": {
        "id": "Wd3BGkarEK1m"
      }
    },
    {
      "cell_type": "markdown",
      "source": [
        "### Contraste de hipotesis diferencia de medias variable Tiempo_Promedio"
      ],
      "metadata": {
        "id": "HpDBWv-o32uZ"
      }
    },
    {
      "cell_type": "code",
      "source": [
        "#Ho: μ1 - μ2 = 0\n",
        "#Ha: μ1 - μ2 ≠ 0\n",
        "\n",
        "## usamos pingouin para calcular p-value e intervalos de confianza, para contraste de hipotesis de\n",
        "## diferencia de medias\n",
        "pg.ttest(x=data_c[\"Tiempo_Promedio\"], y=data_n_c[\"Tiempo_Promedio\"], alternative='two-sided', correction=False)\n",
        "\n",
        "## tc < tt"
      ],
      "metadata": {
        "colab": {
          "base_uri": "https://localhost:8080/",
          "height": 81
        },
        "id": "E8xa_VxLkzJv",
        "outputId": "b740cdb5-c1b9-4b5d-96f4-3c424e2786d7"
      },
      "execution_count": 9,
      "outputs": [
        {
          "output_type": "execute_result",
          "data": {
            "text/plain": [
              "               T   dof alternative     p-val        CI95%   cohen-d   BF10  \\\n",
              "T-test -0.042058  9998   two-sided  0.966454  [-0.1, 0.1]  0.000842  0.023   \n",
              "\n",
              "           power  \n",
              "T-test  0.050203  "
            ],
            "text/html": [
              "\n",
              "  <div id=\"df-5811f5a7-2e5c-4426-a775-edaceb86653f\" class=\"colab-df-container\">\n",
              "    <div>\n",
              "<style scoped>\n",
              "    .dataframe tbody tr th:only-of-type {\n",
              "        vertical-align: middle;\n",
              "    }\n",
              "\n",
              "    .dataframe tbody tr th {\n",
              "        vertical-align: top;\n",
              "    }\n",
              "\n",
              "    .dataframe thead th {\n",
              "        text-align: right;\n",
              "    }\n",
              "</style>\n",
              "<table border=\"1\" class=\"dataframe\">\n",
              "  <thead>\n",
              "    <tr style=\"text-align: right;\">\n",
              "      <th></th>\n",
              "      <th>T</th>\n",
              "      <th>dof</th>\n",
              "      <th>alternative</th>\n",
              "      <th>p-val</th>\n",
              "      <th>CI95%</th>\n",
              "      <th>cohen-d</th>\n",
              "      <th>BF10</th>\n",
              "      <th>power</th>\n",
              "    </tr>\n",
              "  </thead>\n",
              "  <tbody>\n",
              "    <tr>\n",
              "      <th>T-test</th>\n",
              "      <td>-0.042058</td>\n",
              "      <td>9998</td>\n",
              "      <td>two-sided</td>\n",
              "      <td>0.966454</td>\n",
              "      <td>[-0.1, 0.1]</td>\n",
              "      <td>0.000842</td>\n",
              "      <td>0.023</td>\n",
              "      <td>0.050203</td>\n",
              "    </tr>\n",
              "  </tbody>\n",
              "</table>\n",
              "</div>\n",
              "    <div class=\"colab-df-buttons\">\n",
              "\n",
              "  <div class=\"colab-df-container\">\n",
              "    <button class=\"colab-df-convert\" onclick=\"convertToInteractive('df-5811f5a7-2e5c-4426-a775-edaceb86653f')\"\n",
              "            title=\"Convert this dataframe to an interactive table.\"\n",
              "            style=\"display:none;\">\n",
              "\n",
              "  <svg xmlns=\"http://www.w3.org/2000/svg\" height=\"24px\" viewBox=\"0 -960 960 960\">\n",
              "    <path d=\"M120-120v-720h720v720H120Zm60-500h600v-160H180v160Zm220 220h160v-160H400v160Zm0 220h160v-160H400v160ZM180-400h160v-160H180v160Zm440 0h160v-160H620v160ZM180-180h160v-160H180v160Zm440 0h160v-160H620v160Z\"/>\n",
              "  </svg>\n",
              "    </button>\n",
              "\n",
              "  <style>\n",
              "    .colab-df-container {\n",
              "      display:flex;\n",
              "      gap: 12px;\n",
              "    }\n",
              "\n",
              "    .colab-df-convert {\n",
              "      background-color: #E8F0FE;\n",
              "      border: none;\n",
              "      border-radius: 50%;\n",
              "      cursor: pointer;\n",
              "      display: none;\n",
              "      fill: #1967D2;\n",
              "      height: 32px;\n",
              "      padding: 0 0 0 0;\n",
              "      width: 32px;\n",
              "    }\n",
              "\n",
              "    .colab-df-convert:hover {\n",
              "      background-color: #E2EBFA;\n",
              "      box-shadow: 0px 1px 2px rgba(60, 64, 67, 0.3), 0px 1px 3px 1px rgba(60, 64, 67, 0.15);\n",
              "      fill: #174EA6;\n",
              "    }\n",
              "\n",
              "    .colab-df-buttons div {\n",
              "      margin-bottom: 4px;\n",
              "    }\n",
              "\n",
              "    [theme=dark] .colab-df-convert {\n",
              "      background-color: #3B4455;\n",
              "      fill: #D2E3FC;\n",
              "    }\n",
              "\n",
              "    [theme=dark] .colab-df-convert:hover {\n",
              "      background-color: #434B5C;\n",
              "      box-shadow: 0px 1px 3px 1px rgba(0, 0, 0, 0.15);\n",
              "      filter: drop-shadow(0px 1px 2px rgba(0, 0, 0, 0.3));\n",
              "      fill: #FFFFFF;\n",
              "    }\n",
              "  </style>\n",
              "\n",
              "    <script>\n",
              "      const buttonEl =\n",
              "        document.querySelector('#df-5811f5a7-2e5c-4426-a775-edaceb86653f button.colab-df-convert');\n",
              "      buttonEl.style.display =\n",
              "        google.colab.kernel.accessAllowed ? 'block' : 'none';\n",
              "\n",
              "      async function convertToInteractive(key) {\n",
              "        const element = document.querySelector('#df-5811f5a7-2e5c-4426-a775-edaceb86653f');\n",
              "        const dataTable =\n",
              "          await google.colab.kernel.invokeFunction('convertToInteractive',\n",
              "                                                    [key], {});\n",
              "        if (!dataTable) return;\n",
              "\n",
              "        const docLinkHtml = 'Like what you see? Visit the ' +\n",
              "          '<a target=\"_blank\" href=https://colab.research.google.com/notebooks/data_table.ipynb>data table notebook</a>'\n",
              "          + ' to learn more about interactive tables.';\n",
              "        element.innerHTML = '';\n",
              "        dataTable['output_type'] = 'display_data';\n",
              "        await google.colab.output.renderOutput(dataTable, element);\n",
              "        const docLink = document.createElement('div');\n",
              "        docLink.innerHTML = docLinkHtml;\n",
              "        element.appendChild(docLink);\n",
              "      }\n",
              "    </script>\n",
              "  </div>\n",
              "\n",
              "    </div>\n",
              "  </div>\n"
            ],
            "application/vnd.google.colaboratory.intrinsic+json": {
              "type": "dataframe",
              "summary": "{\n  \"name\": \"## tc < tt\",\n  \"rows\": 1,\n  \"fields\": [\n    {\n      \"column\": \"T\",\n      \"properties\": {\n        \"dtype\": \"number\",\n        \"std\": null,\n        \"min\": -0.04205753253677994,\n        \"max\": -0.04205753253677994,\n        \"num_unique_values\": 1,\n        \"samples\": [\n          -0.04205753253677994\n        ],\n        \"semantic_type\": \"\",\n        \"description\": \"\"\n      }\n    },\n    {\n      \"column\": \"dof\",\n      \"properties\": {\n        \"dtype\": \"number\",\n        \"std\": null,\n        \"min\": 9998,\n        \"max\": 9998,\n        \"num_unique_values\": 1,\n        \"samples\": [\n          9998\n        ],\n        \"semantic_type\": \"\",\n        \"description\": \"\"\n      }\n    },\n    {\n      \"column\": \"alternative\",\n      \"properties\": {\n        \"dtype\": \"string\",\n        \"num_unique_values\": 1,\n        \"samples\": [\n          \"two-sided\"\n        ],\n        \"semantic_type\": \"\",\n        \"description\": \"\"\n      }\n    },\n    {\n      \"column\": \"p-val\",\n      \"properties\": {\n        \"dtype\": \"number\",\n        \"std\": null,\n        \"min\": 0.9664536741456585,\n        \"max\": 0.9664536741456585,\n        \"num_unique_values\": 1,\n        \"samples\": [\n          0.9664536741456585\n        ],\n        \"semantic_type\": \"\",\n        \"description\": \"\"\n      }\n    },\n    {\n      \"column\": \"CI95%\",\n      \"properties\": {\n        \"dtype\": \"object\",\n        \"semantic_type\": \"\",\n        \"description\": \"\"\n      }\n    },\n    {\n      \"column\": \"cohen-d\",\n      \"properties\": {\n        \"dtype\": \"number\",\n        \"std\": null,\n        \"min\": 0.0008416545992175077,\n        \"max\": 0.0008416545992175077,\n        \"num_unique_values\": 1,\n        \"samples\": [\n          0.0008416545992175077\n        ],\n        \"semantic_type\": \"\",\n        \"description\": \"\"\n      }\n    },\n    {\n      \"column\": \"BF10\",\n      \"properties\": {\n        \"dtype\": \"string\",\n        \"num_unique_values\": 1,\n        \"samples\": [\n          \"0.023\"\n        ],\n        \"semantic_type\": \"\",\n        \"description\": \"\"\n      }\n    },\n    {\n      \"column\": \"power\",\n      \"properties\": {\n        \"dtype\": \"number\",\n        \"std\": null,\n        \"min\": 0.05020260676342164,\n        \"max\": 0.05020260676342164,\n        \"num_unique_values\": 1,\n        \"samples\": [\n          0.05020260676342164\n        ],\n        \"semantic_type\": \"\",\n        \"description\": \"\"\n      }\n    }\n  ]\n}"
            }
          },
          "metadata": {},
          "execution_count": 9
        }
      ]
    },
    {
      "cell_type": "markdown",
      "source": [
        "Al visualizar el intervalo de confianza, con un 5% de significancia, se puede concluir que la variable ***Tiempo_Promedio*** tiene una diferencia de medias que no es estadisticamente diferente de cero. Por lo que con los datos proporcionados no es posible rechazar la hipotesis nula."
      ],
      "metadata": {
        "id": "JyrKGwyxHWmc"
      }
    },
    {
      "cell_type": "markdown",
      "source": [
        "### Contraste de hipotesis diferencia de medias variable Errores"
      ],
      "metadata": {
        "id": "Q3gi5ESD38wi"
      }
    },
    {
      "cell_type": "code",
      "source": [
        "#Ho: μ1 - μ2 = 0\n",
        "#Ha: μ1 - μ2 ≠ 0\n",
        "\n",
        "## usamos pingouin para calcular p-value e intervalos de confianza, para contraste de hipotesis de\n",
        "## diferencia de medias\n",
        "pg.ttest(x=data_c[\"Errores\"], y=data_n_c[\"Errores\"], alternative='two-sided', correction=False)\n",
        "\n",
        "## tc < tt"
      ],
      "metadata": {
        "colab": {
          "base_uri": "https://localhost:8080/",
          "height": 81
        },
        "id": "5lmCJg8vlQ9x",
        "outputId": "c3eaaa8c-0260-45f7-e39a-7c7220f17e72"
      },
      "execution_count": 10,
      "outputs": [
        {
          "output_type": "execute_result",
          "data": {
            "text/plain": [
              "               T   dof alternative     p-val          CI95%   cohen-d  BF10  \\\n",
              "T-test  1.258026  9998   two-sided  0.208412  [-0.02, 0.09]  0.025176  0.05   \n",
              "\n",
              "           power  \n",
              "T-test  0.241967  "
            ],
            "text/html": [
              "\n",
              "  <div id=\"df-6151823b-e326-4c3e-ae81-7af0a8eb2e4e\" class=\"colab-df-container\">\n",
              "    <div>\n",
              "<style scoped>\n",
              "    .dataframe tbody tr th:only-of-type {\n",
              "        vertical-align: middle;\n",
              "    }\n",
              "\n",
              "    .dataframe tbody tr th {\n",
              "        vertical-align: top;\n",
              "    }\n",
              "\n",
              "    .dataframe thead th {\n",
              "        text-align: right;\n",
              "    }\n",
              "</style>\n",
              "<table border=\"1\" class=\"dataframe\">\n",
              "  <thead>\n",
              "    <tr style=\"text-align: right;\">\n",
              "      <th></th>\n",
              "      <th>T</th>\n",
              "      <th>dof</th>\n",
              "      <th>alternative</th>\n",
              "      <th>p-val</th>\n",
              "      <th>CI95%</th>\n",
              "      <th>cohen-d</th>\n",
              "      <th>BF10</th>\n",
              "      <th>power</th>\n",
              "    </tr>\n",
              "  </thead>\n",
              "  <tbody>\n",
              "    <tr>\n",
              "      <th>T-test</th>\n",
              "      <td>1.258026</td>\n",
              "      <td>9998</td>\n",
              "      <td>two-sided</td>\n",
              "      <td>0.208412</td>\n",
              "      <td>[-0.02, 0.09]</td>\n",
              "      <td>0.025176</td>\n",
              "      <td>0.05</td>\n",
              "      <td>0.241967</td>\n",
              "    </tr>\n",
              "  </tbody>\n",
              "</table>\n",
              "</div>\n",
              "    <div class=\"colab-df-buttons\">\n",
              "\n",
              "  <div class=\"colab-df-container\">\n",
              "    <button class=\"colab-df-convert\" onclick=\"convertToInteractive('df-6151823b-e326-4c3e-ae81-7af0a8eb2e4e')\"\n",
              "            title=\"Convert this dataframe to an interactive table.\"\n",
              "            style=\"display:none;\">\n",
              "\n",
              "  <svg xmlns=\"http://www.w3.org/2000/svg\" height=\"24px\" viewBox=\"0 -960 960 960\">\n",
              "    <path d=\"M120-120v-720h720v720H120Zm60-500h600v-160H180v160Zm220 220h160v-160H400v160Zm0 220h160v-160H400v160ZM180-400h160v-160H180v160Zm440 0h160v-160H620v160ZM180-180h160v-160H180v160Zm440 0h160v-160H620v160Z\"/>\n",
              "  </svg>\n",
              "    </button>\n",
              "\n",
              "  <style>\n",
              "    .colab-df-container {\n",
              "      display:flex;\n",
              "      gap: 12px;\n",
              "    }\n",
              "\n",
              "    .colab-df-convert {\n",
              "      background-color: #E8F0FE;\n",
              "      border: none;\n",
              "      border-radius: 50%;\n",
              "      cursor: pointer;\n",
              "      display: none;\n",
              "      fill: #1967D2;\n",
              "      height: 32px;\n",
              "      padding: 0 0 0 0;\n",
              "      width: 32px;\n",
              "    }\n",
              "\n",
              "    .colab-df-convert:hover {\n",
              "      background-color: #E2EBFA;\n",
              "      box-shadow: 0px 1px 2px rgba(60, 64, 67, 0.3), 0px 1px 3px 1px rgba(60, 64, 67, 0.15);\n",
              "      fill: #174EA6;\n",
              "    }\n",
              "\n",
              "    .colab-df-buttons div {\n",
              "      margin-bottom: 4px;\n",
              "    }\n",
              "\n",
              "    [theme=dark] .colab-df-convert {\n",
              "      background-color: #3B4455;\n",
              "      fill: #D2E3FC;\n",
              "    }\n",
              "\n",
              "    [theme=dark] .colab-df-convert:hover {\n",
              "      background-color: #434B5C;\n",
              "      box-shadow: 0px 1px 3px 1px rgba(0, 0, 0, 0.15);\n",
              "      filter: drop-shadow(0px 1px 2px rgba(0, 0, 0, 0.3));\n",
              "      fill: #FFFFFF;\n",
              "    }\n",
              "  </style>\n",
              "\n",
              "    <script>\n",
              "      const buttonEl =\n",
              "        document.querySelector('#df-6151823b-e326-4c3e-ae81-7af0a8eb2e4e button.colab-df-convert');\n",
              "      buttonEl.style.display =\n",
              "        google.colab.kernel.accessAllowed ? 'block' : 'none';\n",
              "\n",
              "      async function convertToInteractive(key) {\n",
              "        const element = document.querySelector('#df-6151823b-e326-4c3e-ae81-7af0a8eb2e4e');\n",
              "        const dataTable =\n",
              "          await google.colab.kernel.invokeFunction('convertToInteractive',\n",
              "                                                    [key], {});\n",
              "        if (!dataTable) return;\n",
              "\n",
              "        const docLinkHtml = 'Like what you see? Visit the ' +\n",
              "          '<a target=\"_blank\" href=https://colab.research.google.com/notebooks/data_table.ipynb>data table notebook</a>'\n",
              "          + ' to learn more about interactive tables.';\n",
              "        element.innerHTML = '';\n",
              "        dataTable['output_type'] = 'display_data';\n",
              "        await google.colab.output.renderOutput(dataTable, element);\n",
              "        const docLink = document.createElement('div');\n",
              "        docLink.innerHTML = docLinkHtml;\n",
              "        element.appendChild(docLink);\n",
              "      }\n",
              "    </script>\n",
              "  </div>\n",
              "\n",
              "    </div>\n",
              "  </div>\n"
            ],
            "application/vnd.google.colaboratory.intrinsic+json": {
              "type": "dataframe",
              "summary": "{\n  \"name\": \"## tc < tt\",\n  \"rows\": 1,\n  \"fields\": [\n    {\n      \"column\": \"T\",\n      \"properties\": {\n        \"dtype\": \"number\",\n        \"std\": null,\n        \"min\": 1.2580258876795531,\n        \"max\": 1.2580258876795531,\n        \"num_unique_values\": 1,\n        \"samples\": [\n          1.2580258876795531\n        ],\n        \"semantic_type\": \"\",\n        \"description\": \"\"\n      }\n    },\n    {\n      \"column\": \"dof\",\n      \"properties\": {\n        \"dtype\": \"number\",\n        \"std\": null,\n        \"min\": 9998,\n        \"max\": 9998,\n        \"num_unique_values\": 1,\n        \"samples\": [\n          9998\n        ],\n        \"semantic_type\": \"\",\n        \"description\": \"\"\n      }\n    },\n    {\n      \"column\": \"alternative\",\n      \"properties\": {\n        \"dtype\": \"string\",\n        \"num_unique_values\": 1,\n        \"samples\": [\n          \"two-sided\"\n        ],\n        \"semantic_type\": \"\",\n        \"description\": \"\"\n      }\n    },\n    {\n      \"column\": \"p-val\",\n      \"properties\": {\n        \"dtype\": \"number\",\n        \"std\": null,\n        \"min\": 0.20841177350741652,\n        \"max\": 0.20841177350741652,\n        \"num_unique_values\": 1,\n        \"samples\": [\n          0.20841177350741652\n        ],\n        \"semantic_type\": \"\",\n        \"description\": \"\"\n      }\n    },\n    {\n      \"column\": \"CI95%\",\n      \"properties\": {\n        \"dtype\": \"object\",\n        \"semantic_type\": \"\",\n        \"description\": \"\"\n      }\n    },\n    {\n      \"column\": \"cohen-d\",\n      \"properties\": {\n        \"dtype\": \"number\",\n        \"std\": null,\n        \"min\": 0.025175591872258,\n        \"max\": 0.025175591872258,\n        \"num_unique_values\": 1,\n        \"samples\": [\n          0.025175591872258\n        ],\n        \"semantic_type\": \"\",\n        \"description\": \"\"\n      }\n    },\n    {\n      \"column\": \"BF10\",\n      \"properties\": {\n        \"dtype\": \"string\",\n        \"num_unique_values\": 1,\n        \"samples\": [\n          \"0.05\"\n        ],\n        \"semantic_type\": \"\",\n        \"description\": \"\"\n      }\n    },\n    {\n      \"column\": \"power\",\n      \"properties\": {\n        \"dtype\": \"number\",\n        \"std\": null,\n        \"min\": 0.24196693882036077,\n        \"max\": 0.24196693882036077,\n        \"num_unique_values\": 1,\n        \"samples\": [\n          0.24196693882036077\n        ],\n        \"semantic_type\": \"\",\n        \"description\": \"\"\n      }\n    }\n  ]\n}"
            }
          },
          "metadata": {},
          "execution_count": 10
        }
      ]
    },
    {
      "cell_type": "markdown",
      "source": [
        "Al visualizar el intervalo de confianza, con un 5% de significancia, se puede concluir que la variable ***Errores*** tiene una diferencia de medias que no es estadisticamente diferente de cero. Por lo que con los datos proporcionados no es posible rechazar la hipotesis nula."
      ],
      "metadata": {
        "id": "c7j1JdcRH0yo"
      }
    },
    {
      "cell_type": "markdown",
      "source": [
        "### Contraste de hipotesis diferencia de medias variable Capacidad_Servidores"
      ],
      "metadata": {
        "id": "3lMziddl4BkW"
      }
    },
    {
      "cell_type": "code",
      "source": [
        "#Ho: μ1 - μ2 = 0\n",
        "#Ha: μ1 - μ2 ≠ 0\n",
        "\n",
        "## usamos pingouin para calcular p-value e intervalos de confianza, para contraste de hipotesis de\n",
        "## diferencia de medias\n",
        "pg.ttest(x=data_c[\"Capacidad_Servidores\"], y=data_n_c[\"Capacidad_Servidores\"], alternative='two-sided', correction=False)\n",
        "\n",
        "## tc < tt"
      ],
      "metadata": {
        "colab": {
          "base_uri": "https://localhost:8080/",
          "height": 81
        },
        "id": "qtUau70FlgyQ",
        "outputId": "7cf75b1a-0672-40b8-fc8c-1390168d635b"
      },
      "execution_count": 11,
      "outputs": [
        {
          "output_type": "execute_result",
          "data": {
            "text/plain": [
              "               T   dof alternative     p-val          CI95%   cohen-d   BF10  \\\n",
              "T-test  0.604596  9998   two-sided  0.545462  [-0.08, 0.15]  0.012099  0.027   \n",
              "\n",
              "           power  \n",
              "T-test  0.092807  "
            ],
            "text/html": [
              "\n",
              "  <div id=\"df-8ff369d0-41ff-4456-a829-2497943502ba\" class=\"colab-df-container\">\n",
              "    <div>\n",
              "<style scoped>\n",
              "    .dataframe tbody tr th:only-of-type {\n",
              "        vertical-align: middle;\n",
              "    }\n",
              "\n",
              "    .dataframe tbody tr th {\n",
              "        vertical-align: top;\n",
              "    }\n",
              "\n",
              "    .dataframe thead th {\n",
              "        text-align: right;\n",
              "    }\n",
              "</style>\n",
              "<table border=\"1\" class=\"dataframe\">\n",
              "  <thead>\n",
              "    <tr style=\"text-align: right;\">\n",
              "      <th></th>\n",
              "      <th>T</th>\n",
              "      <th>dof</th>\n",
              "      <th>alternative</th>\n",
              "      <th>p-val</th>\n",
              "      <th>CI95%</th>\n",
              "      <th>cohen-d</th>\n",
              "      <th>BF10</th>\n",
              "      <th>power</th>\n",
              "    </tr>\n",
              "  </thead>\n",
              "  <tbody>\n",
              "    <tr>\n",
              "      <th>T-test</th>\n",
              "      <td>0.604596</td>\n",
              "      <td>9998</td>\n",
              "      <td>two-sided</td>\n",
              "      <td>0.545462</td>\n",
              "      <td>[-0.08, 0.15]</td>\n",
              "      <td>0.012099</td>\n",
              "      <td>0.027</td>\n",
              "      <td>0.092807</td>\n",
              "    </tr>\n",
              "  </tbody>\n",
              "</table>\n",
              "</div>\n",
              "    <div class=\"colab-df-buttons\">\n",
              "\n",
              "  <div class=\"colab-df-container\">\n",
              "    <button class=\"colab-df-convert\" onclick=\"convertToInteractive('df-8ff369d0-41ff-4456-a829-2497943502ba')\"\n",
              "            title=\"Convert this dataframe to an interactive table.\"\n",
              "            style=\"display:none;\">\n",
              "\n",
              "  <svg xmlns=\"http://www.w3.org/2000/svg\" height=\"24px\" viewBox=\"0 -960 960 960\">\n",
              "    <path d=\"M120-120v-720h720v720H120Zm60-500h600v-160H180v160Zm220 220h160v-160H400v160Zm0 220h160v-160H400v160ZM180-400h160v-160H180v160Zm440 0h160v-160H620v160ZM180-180h160v-160H180v160Zm440 0h160v-160H620v160Z\"/>\n",
              "  </svg>\n",
              "    </button>\n",
              "\n",
              "  <style>\n",
              "    .colab-df-container {\n",
              "      display:flex;\n",
              "      gap: 12px;\n",
              "    }\n",
              "\n",
              "    .colab-df-convert {\n",
              "      background-color: #E8F0FE;\n",
              "      border: none;\n",
              "      border-radius: 50%;\n",
              "      cursor: pointer;\n",
              "      display: none;\n",
              "      fill: #1967D2;\n",
              "      height: 32px;\n",
              "      padding: 0 0 0 0;\n",
              "      width: 32px;\n",
              "    }\n",
              "\n",
              "    .colab-df-convert:hover {\n",
              "      background-color: #E2EBFA;\n",
              "      box-shadow: 0px 1px 2px rgba(60, 64, 67, 0.3), 0px 1px 3px 1px rgba(60, 64, 67, 0.15);\n",
              "      fill: #174EA6;\n",
              "    }\n",
              "\n",
              "    .colab-df-buttons div {\n",
              "      margin-bottom: 4px;\n",
              "    }\n",
              "\n",
              "    [theme=dark] .colab-df-convert {\n",
              "      background-color: #3B4455;\n",
              "      fill: #D2E3FC;\n",
              "    }\n",
              "\n",
              "    [theme=dark] .colab-df-convert:hover {\n",
              "      background-color: #434B5C;\n",
              "      box-shadow: 0px 1px 3px 1px rgba(0, 0, 0, 0.15);\n",
              "      filter: drop-shadow(0px 1px 2px rgba(0, 0, 0, 0.3));\n",
              "      fill: #FFFFFF;\n",
              "    }\n",
              "  </style>\n",
              "\n",
              "    <script>\n",
              "      const buttonEl =\n",
              "        document.querySelector('#df-8ff369d0-41ff-4456-a829-2497943502ba button.colab-df-convert');\n",
              "      buttonEl.style.display =\n",
              "        google.colab.kernel.accessAllowed ? 'block' : 'none';\n",
              "\n",
              "      async function convertToInteractive(key) {\n",
              "        const element = document.querySelector('#df-8ff369d0-41ff-4456-a829-2497943502ba');\n",
              "        const dataTable =\n",
              "          await google.colab.kernel.invokeFunction('convertToInteractive',\n",
              "                                                    [key], {});\n",
              "        if (!dataTable) return;\n",
              "\n",
              "        const docLinkHtml = 'Like what you see? Visit the ' +\n",
              "          '<a target=\"_blank\" href=https://colab.research.google.com/notebooks/data_table.ipynb>data table notebook</a>'\n",
              "          + ' to learn more about interactive tables.';\n",
              "        element.innerHTML = '';\n",
              "        dataTable['output_type'] = 'display_data';\n",
              "        await google.colab.output.renderOutput(dataTable, element);\n",
              "        const docLink = document.createElement('div');\n",
              "        docLink.innerHTML = docLinkHtml;\n",
              "        element.appendChild(docLink);\n",
              "      }\n",
              "    </script>\n",
              "  </div>\n",
              "\n",
              "    </div>\n",
              "  </div>\n"
            ],
            "application/vnd.google.colaboratory.intrinsic+json": {
              "type": "dataframe",
              "summary": "{\n  \"name\": \"## tc < tt\",\n  \"rows\": 1,\n  \"fields\": [\n    {\n      \"column\": \"T\",\n      \"properties\": {\n        \"dtype\": \"number\",\n        \"std\": null,\n        \"min\": 0.6045955067343801,\n        \"max\": 0.6045955067343801,\n        \"num_unique_values\": 1,\n        \"samples\": [\n          0.6045955067343801\n        ],\n        \"semantic_type\": \"\",\n        \"description\": \"\"\n      }\n    },\n    {\n      \"column\": \"dof\",\n      \"properties\": {\n        \"dtype\": \"number\",\n        \"std\": null,\n        \"min\": 9998,\n        \"max\": 9998,\n        \"num_unique_values\": 1,\n        \"samples\": [\n          9998\n        ],\n        \"semantic_type\": \"\",\n        \"description\": \"\"\n      }\n    },\n    {\n      \"column\": \"alternative\",\n      \"properties\": {\n        \"dtype\": \"string\",\n        \"num_unique_values\": 1,\n        \"samples\": [\n          \"two-sided\"\n        ],\n        \"semantic_type\": \"\",\n        \"description\": \"\"\n      }\n    },\n    {\n      \"column\": \"p-val\",\n      \"properties\": {\n        \"dtype\": \"number\",\n        \"std\": null,\n        \"min\": 0.5454615128710183,\n        \"max\": 0.5454615128710183,\n        \"num_unique_values\": 1,\n        \"samples\": [\n          0.5454615128710183\n        ],\n        \"semantic_type\": \"\",\n        \"description\": \"\"\n      }\n    },\n    {\n      \"column\": \"CI95%\",\n      \"properties\": {\n        \"dtype\": \"object\",\n        \"semantic_type\": \"\",\n        \"description\": \"\"\n      }\n    },\n    {\n      \"column\": \"cohen-d\",\n      \"properties\": {\n        \"dtype\": \"number\",\n        \"std\": null,\n        \"min\": 0.012099154615507325,\n        \"max\": 0.012099154615507325,\n        \"num_unique_values\": 1,\n        \"samples\": [\n          0.012099154615507325\n        ],\n        \"semantic_type\": \"\",\n        \"description\": \"\"\n      }\n    },\n    {\n      \"column\": \"BF10\",\n      \"properties\": {\n        \"dtype\": \"string\",\n        \"num_unique_values\": 1,\n        \"samples\": [\n          \"0.027\"\n        ],\n        \"semantic_type\": \"\",\n        \"description\": \"\"\n      }\n    },\n    {\n      \"column\": \"power\",\n      \"properties\": {\n        \"dtype\": \"number\",\n        \"std\": null,\n        \"min\": 0.09280705543584897,\n        \"max\": 0.09280705543584897,\n        \"num_unique_values\": 1,\n        \"samples\": [\n          0.09280705543584897\n        ],\n        \"semantic_type\": \"\",\n        \"description\": \"\"\n      }\n    }\n  ]\n}"
            }
          },
          "metadata": {},
          "execution_count": 11
        }
      ]
    },
    {
      "cell_type": "markdown",
      "source": [
        "Al visualizar el intervalo de confianza, con un 5% de significancia, se puede concluir que la variable ***Capacidad_Servidores*** tiene una diferencia de medias que no es estadisticamente diferente de cero. Por lo que con los datos proporcionados no es posible rechazar la hipotesis nula."
      ],
      "metadata": {
        "id": "sTKLxqVbH37t"
      }
    },
    {
      "cell_type": "markdown",
      "source": [
        "## 2. Especificacion del modelo de probabilidad lineal"
      ],
      "metadata": {
        "id": "yj3mqyhnrcRo"
      }
    },
    {
      "cell_type": "markdown",
      "source": [
        "###Combinaciones modelos de probabilidad lineal"
      ],
      "metadata": {
        "id": "mSsrUuEaf6O3"
      }
    },
    {
      "cell_type": "code",
      "source": [
        "## creamos todas las combinaciones posibles con las variables explicativas señaladas\n",
        "variables = list(data[[\"Consultas\", \"Tiempo_Promedio\", \"Errores\", \"Capacidad_Servidores\"]].columns)\n",
        "\n",
        "#generates all possible combinations of the variables\n",
        "combinations = []\n",
        "for r in range(1, len(variables) + 1):\n",
        "    for combo in itertools.combinations(variables, r):\n",
        "      print(combo)"
      ],
      "metadata": {
        "id": "4yp-BXKirbR5",
        "colab": {
          "base_uri": "https://localhost:8080/"
        },
        "outputId": "751b2735-2a8e-40af-d750-d4da23bdd0ea"
      },
      "execution_count": 12,
      "outputs": [
        {
          "output_type": "stream",
          "name": "stdout",
          "text": [
            "('Consultas',)\n",
            "('Tiempo_Promedio',)\n",
            "('Errores',)\n",
            "('Capacidad_Servidores',)\n",
            "('Consultas', 'Tiempo_Promedio')\n",
            "('Consultas', 'Errores')\n",
            "('Consultas', 'Capacidad_Servidores')\n",
            "('Tiempo_Promedio', 'Errores')\n",
            "('Tiempo_Promedio', 'Capacidad_Servidores')\n",
            "('Errores', 'Capacidad_Servidores')\n",
            "('Consultas', 'Tiempo_Promedio', 'Errores')\n",
            "('Consultas', 'Tiempo_Promedio', 'Capacidad_Servidores')\n",
            "('Consultas', 'Errores', 'Capacidad_Servidores')\n",
            "('Tiempo_Promedio', 'Errores', 'Capacidad_Servidores')\n",
            "('Consultas', 'Tiempo_Promedio', 'Errores', 'Capacidad_Servidores')\n"
          ]
        }
      ]
    },
    {
      "cell_type": "markdown",
      "source": [
        "####Modelo 1"
      ],
      "metadata": {
        "id": "oTSz10EZ4L2-"
      }
    },
    {
      "cell_type": "code",
      "source": [
        "#Sistema_Colapsa = b0 + b1 * Consultas + μ\n",
        "\n",
        "X = data[[\"Consultas\"]]\n",
        "y = data[\"Sistema_Colapsa\"]\n",
        "\n",
        "model = sm.OLS(y, sm.add_constant(X)).fit()\n",
        "\n",
        "print(model.summary())"
      ],
      "metadata": {
        "colab": {
          "base_uri": "https://localhost:8080/"
        },
        "id": "hwQmLDIZUzSg",
        "outputId": "8857bc98-2b83-4ee3-f7ce-88274df1a5e0"
      },
      "execution_count": 13,
      "outputs": [
        {
          "output_type": "stream",
          "name": "stdout",
          "text": [
            "                            OLS Regression Results                            \n",
            "==============================================================================\n",
            "Dep. Variable:        Sistema_Colapsa   R-squared:                       0.749\n",
            "Model:                            OLS   Adj. R-squared:                  0.749\n",
            "Method:                 Least Squares   F-statistic:                 2.979e+04\n",
            "Date:                Wed, 05 Jun 2024   Prob (F-statistic):               0.00\n",
            "Time:                        04:24:50   Log-Likelihood:                -345.54\n",
            "No. Observations:               10000   AIC:                             695.1\n",
            "Df Residuals:                    9998   BIC:                             709.5\n",
            "Df Model:                           1                                         \n",
            "Covariance Type:            nonrobust                                         \n",
            "==============================================================================\n",
            "                 coef    std err          t      P>|t|      [0.025      0.975]\n",
            "------------------------------------------------------------------------------\n",
            "const         -0.2539      0.005    -51.307      0.000      -0.264      -0.244\n",
            "Consultas      0.0150   8.68e-05    172.609      0.000       0.015       0.015\n",
            "==============================================================================\n",
            "Omnibus:                      919.666   Durbin-Watson:                   1.952\n",
            "Prob(Omnibus):                  0.000   Jarque-Bera (JB):              279.236\n",
            "Skew:                          -0.024   Prob(JB):                     2.32e-61\n",
            "Kurtosis:                       2.183   Cond. No.                         113.\n",
            "==============================================================================\n",
            "\n",
            "Notes:\n",
            "[1] Standard Errors assume that the covariance matrix of the errors is correctly specified.\n"
          ]
        }
      ]
    },
    {
      "cell_type": "code",
      "source": [
        "## 0.55 es el umbral\n",
        "\n",
        "## el % de casos correctamente predichos (según umbral determinado)\n",
        "accuracy = accuracy_score(y, [1 if y > 0.55 else 0 for y in model.fittedvalues])\n",
        "## SETEAMOS EL UMBRAL EN 0.XX\n",
        "accuracy_percentage =  accuracy * 100\n",
        "\n",
        "print(f\"Casos correctamente predichos: {accuracy_percentage:.2f}%\")"
      ],
      "metadata": {
        "colab": {
          "base_uri": "https://localhost:8080/"
        },
        "id": "AuBobXv-VTVH",
        "outputId": "0815a281-d41b-42d4-8cc0-81d5aae63abe"
      },
      "execution_count": 14,
      "outputs": [
        {
          "output_type": "stream",
          "name": "stdout",
          "text": [
            "Casos correctamente predichos: 97.04%\n"
          ]
        }
      ]
    },
    {
      "cell_type": "markdown",
      "source": [
        "####Modelo 2"
      ],
      "metadata": {
        "id": "FLxCcWTi4ZbY"
      }
    },
    {
      "cell_type": "code",
      "source": [
        "#Sistema_Colapsa = b0 + b1 * Tiempo_Promedio + μ\n",
        "\n",
        "X2 = data[[\"Tiempo_Promedio\"]]\n",
        "y = data[\"Sistema_Colapsa\"]\n",
        "\n",
        "model2 = sm.OLS(y, sm.add_constant(X2)).fit()\n",
        "\n",
        "print(model2.summary())"
      ],
      "metadata": {
        "colab": {
          "base_uri": "https://localhost:8080/"
        },
        "id": "g0OxLjGcVfIV",
        "outputId": "7b510966-34dd-4398-8190-3d9febfae00f"
      },
      "execution_count": 15,
      "outputs": [
        {
          "output_type": "stream",
          "name": "stdout",
          "text": [
            "                            OLS Regression Results                            \n",
            "==============================================================================\n",
            "Dep. Variable:        Sistema_Colapsa   R-squared:                       0.000\n",
            "Model:                            OLS   Adj. R-squared:                 -0.000\n",
            "Method:                 Least Squares   F-statistic:                  0.001769\n",
            "Date:                Wed, 05 Jun 2024   Prob (F-statistic):              0.966\n",
            "Time:                        04:24:51   Log-Likelihood:                -7251.9\n",
            "No. Observations:               10000   AIC:                         1.451e+04\n",
            "Df Residuals:                    9998   BIC:                         1.452e+04\n",
            "Df Model:                           1                                         \n",
            "Covariance Type:            nonrobust                                         \n",
            "===================================================================================\n",
            "                      coef    std err          t      P>|t|      [0.025      0.975]\n",
            "-----------------------------------------------------------------------------------\n",
            "const               0.4831      0.012     41.320      0.000       0.460       0.506\n",
            "Tiempo_Promedio -8.139e-05      0.002     -0.042      0.966      -0.004       0.004\n",
            "==============================================================================\n",
            "Omnibus:                    34500.322   Durbin-Watson:                   1.991\n",
            "Prob(Omnibus):                  0.000   Jarque-Bera (JB):             1666.675\n",
            "Skew:                           0.069   Prob(JB):                         0.00\n",
            "Kurtosis:                       1.005   Cond. No.                         14.5\n",
            "==============================================================================\n",
            "\n",
            "Notes:\n",
            "[1] Standard Errors assume that the covariance matrix of the errors is correctly specified.\n"
          ]
        }
      ]
    },
    {
      "cell_type": "code",
      "source": [
        "## 0.55 es el umbral\n",
        "\n",
        "## el % de casos correctamente predichos (según umbral determinado)\n",
        "accuracy2 = accuracy_score(y, [1 if y > 0.55 else 0 for y in model2.fittedvalues])\n",
        "## SETEAMOS EL UMBRAL EN 0.XX\n",
        "accuracy_percentage2 =  accuracy2 * 100\n",
        "\n",
        "print(f\"Casos correctamente predichos: {accuracy_percentage2:.2f}%\")"
      ],
      "metadata": {
        "colab": {
          "base_uri": "https://localhost:8080/"
        },
        "id": "L_ZmatPVV0e3",
        "outputId": "597f49e8-c0ba-41f4-81e6-06e61f1cbcd5"
      },
      "execution_count": 16,
      "outputs": [
        {
          "output_type": "stream",
          "name": "stdout",
          "text": [
            "Casos correctamente predichos: 51.73%\n"
          ]
        }
      ]
    },
    {
      "cell_type": "markdown",
      "source": [
        "####Modelo 3"
      ],
      "metadata": {
        "id": "LIrgZzQp4faX"
      }
    },
    {
      "cell_type": "code",
      "source": [
        "#Sistema_Colapsa = b0 + b1 * Errores + μ\n",
        "\n",
        "X3 = data[[\"Errores\"]]\n",
        "y = data[\"Sistema_Colapsa\"]\n",
        "\n",
        "model3 = sm.OLS(y, sm.add_constant(X3)).fit()\n",
        "\n",
        "print(model3.summary())"
      ],
      "metadata": {
        "colab": {
          "base_uri": "https://localhost:8080/"
        },
        "id": "RT80TdxgWBYY",
        "outputId": "1b91fd09-3230-4f8b-e9e7-9c89924fc24e"
      },
      "execution_count": 17,
      "outputs": [
        {
          "output_type": "stream",
          "name": "stdout",
          "text": [
            "                            OLS Regression Results                            \n",
            "==============================================================================\n",
            "Dep. Variable:        Sistema_Colapsa   R-squared:                       0.000\n",
            "Model:                            OLS   Adj. R-squared:                  0.000\n",
            "Method:                 Least Squares   F-statistic:                     1.583\n",
            "Date:                Wed, 05 Jun 2024   Prob (F-statistic):              0.208\n",
            "Time:                        04:24:51   Log-Likelihood:                -7251.1\n",
            "No. Observations:               10000   AIC:                         1.451e+04\n",
            "Df Residuals:                    9998   BIC:                         1.452e+04\n",
            "Df Model:                           1                                         \n",
            "Covariance Type:            nonrobust                                         \n",
            "==============================================================================\n",
            "                 coef    std err          t      P>|t|      [0.025      0.975]\n",
            "------------------------------------------------------------------------------\n",
            "const          0.4737      0.009     54.217      0.000       0.457       0.491\n",
            "Errores        0.0044      0.004      1.258      0.208      -0.002       0.011\n",
            "==============================================================================\n",
            "Omnibus:                    34512.633   Durbin-Watson:                   1.991\n",
            "Prob(Omnibus):                  0.000   Jarque-Bera (JB):             1665.622\n",
            "Skew:                           0.069   Prob(JB):                         0.00\n",
            "Kurtosis:                       1.005   Cond. No.                         4.82\n",
            "==============================================================================\n",
            "\n",
            "Notes:\n",
            "[1] Standard Errors assume that the covariance matrix of the errors is correctly specified.\n"
          ]
        }
      ]
    },
    {
      "cell_type": "code",
      "source": [
        "## 0.55 es el umbral\n",
        "\n",
        "## el % de casos correctamente predichos (según umbral determinado)\n",
        "accuracy3 = accuracy_score(y, [1 if y > 0.55 else 0 for y in model3.fittedvalues])\n",
        "## SETEAMOS EL UMBRAL EN 0.XX\n",
        "accuracy_percentage3 =  accuracy3 * 100\n",
        "\n",
        "print(f\"Casos correctamente predichos: {accuracy_percentage3:.2f}%\")"
      ],
      "metadata": {
        "colab": {
          "base_uri": "https://localhost:8080/"
        },
        "id": "sajOtbIjWLjX",
        "outputId": "95234685-0caa-40d3-f498-91f35153a7ce"
      },
      "execution_count": 18,
      "outputs": [
        {
          "output_type": "stream",
          "name": "stdout",
          "text": [
            "Casos correctamente predichos: 51.73%\n"
          ]
        }
      ]
    },
    {
      "cell_type": "markdown",
      "source": [
        "####Modelo 4"
      ],
      "metadata": {
        "id": "9C_A97VP4lL_"
      }
    },
    {
      "cell_type": "code",
      "source": [
        "#Sistema_Colapsa = b0 + b1 * Capacidad_Servidores + μ\n",
        "\n",
        "X4 = data[[\"Capacidad_Servidores\"]]\n",
        "y = data[\"Sistema_Colapsa\"]\n",
        "\n",
        "model4 = sm.OLS(y, sm.add_constant(X4)).fit()\n",
        "\n",
        "print(model4.summary())"
      ],
      "metadata": {
        "colab": {
          "base_uri": "https://localhost:8080/"
        },
        "id": "43Jqez4UWXsJ",
        "outputId": "437411bc-da65-4ff2-ea3d-f241f2d7e19e"
      },
      "execution_count": 19,
      "outputs": [
        {
          "output_type": "stream",
          "name": "stdout",
          "text": [
            "                            OLS Regression Results                            \n",
            "==============================================================================\n",
            "Dep. Variable:        Sistema_Colapsa   R-squared:                       0.000\n",
            "Model:                            OLS   Adj. R-squared:                 -0.000\n",
            "Method:                 Least Squares   F-statistic:                    0.3655\n",
            "Date:                Wed, 05 Jun 2024   Prob (F-statistic):              0.545\n",
            "Time:                        04:24:51   Log-Likelihood:                -7251.7\n",
            "No. Observations:               10000   AIC:                         1.451e+04\n",
            "Df Residuals:                    9998   BIC:                         1.452e+04\n",
            "Df Model:                           1                                         \n",
            "Covariance Type:            nonrobust                                         \n",
            "========================================================================================\n",
            "                           coef    std err          t      P>|t|      [0.025      0.975]\n",
            "----------------------------------------------------------------------------------------\n",
            "const                    0.4769      0.011     44.292      0.000       0.456       0.498\n",
            "Capacidad_Servidores     0.0011      0.002      0.605      0.545      -0.002       0.004\n",
            "==============================================================================\n",
            "Omnibus:                    34503.150   Durbin-Watson:                   1.991\n",
            "Prob(Omnibus):                  0.000   Jarque-Bera (JB):             1666.433\n",
            "Skew:                           0.069   Prob(JB):                         0.00\n",
            "Kurtosis:                       1.005   Cond. No.                         13.6\n",
            "==============================================================================\n",
            "\n",
            "Notes:\n",
            "[1] Standard Errors assume that the covariance matrix of the errors is correctly specified.\n"
          ]
        }
      ]
    },
    {
      "cell_type": "code",
      "source": [
        "## 0.55 es el umbral\n",
        "\n",
        "## el % de casos correctamente predichos (según umbral determinado)\n",
        "accuracy4 = accuracy_score(y, [1 if y > 0.55 else 0 for y in model4.fittedvalues])\n",
        "## SETEAMOS EL UMBRAL EN 0.XX\n",
        "accuracy_percentage4 =  accuracy4 * 100\n",
        "\n",
        "print(f\"Casos correctamente predichos: {accuracy_percentage4:.2f}%\")"
      ],
      "metadata": {
        "colab": {
          "base_uri": "https://localhost:8080/"
        },
        "id": "p0nHZ_MjWj-8",
        "outputId": "cddf14b9-ec16-4eee-bccd-c72408469073"
      },
      "execution_count": 20,
      "outputs": [
        {
          "output_type": "stream",
          "name": "stdout",
          "text": [
            "Casos correctamente predichos: 51.73%\n"
          ]
        }
      ]
    },
    {
      "cell_type": "markdown",
      "source": [
        "####Modelo 5"
      ],
      "metadata": {
        "id": "3rN-IaAU4olN"
      }
    },
    {
      "cell_type": "code",
      "source": [
        "#Sistema_Colapsa = b0 + b1 * Consultas + b2 * Tiempo_Promedio + μ\n",
        "\n",
        "X5 = data[[\"Consultas\",\"Tiempo_Promedio\"]]\n",
        "y = data[\"Sistema_Colapsa\"]\n",
        "\n",
        "model5 = sm.OLS(y, sm.add_constant(X5)).fit()\n",
        "\n",
        "print(model5.summary())"
      ],
      "metadata": {
        "colab": {
          "base_uri": "https://localhost:8080/"
        },
        "id": "R_HPPetgXaLb",
        "outputId": "1ca261ee-c5e2-49c2-a9dd-954e61d4b38d"
      },
      "execution_count": 21,
      "outputs": [
        {
          "output_type": "stream",
          "name": "stdout",
          "text": [
            "                            OLS Regression Results                            \n",
            "==============================================================================\n",
            "Dep. Variable:        Sistema_Colapsa   R-squared:                       0.749\n",
            "Model:                            OLS   Adj. R-squared:                  0.749\n",
            "Method:                 Least Squares   F-statistic:                 1.490e+04\n",
            "Date:                Wed, 05 Jun 2024   Prob (F-statistic):               0.00\n",
            "Time:                        04:24:51   Log-Likelihood:                -343.34\n",
            "No. Observations:               10000   AIC:                             692.7\n",
            "Df Residuals:                    9997   BIC:                             714.3\n",
            "Df Model:                           2                                         \n",
            "Covariance Type:            nonrobust                                         \n",
            "===================================================================================\n",
            "                      coef    std err          t      P>|t|      [0.025      0.975]\n",
            "-----------------------------------------------------------------------------------\n",
            "const              -0.2651      0.007    -36.373      0.000      -0.279      -0.251\n",
            "Consultas           0.0150   8.68e-05    172.651      0.000       0.015       0.015\n",
            "Tiempo_Promedio     0.0020      0.001      2.097      0.036       0.000       0.004\n",
            "==============================================================================\n",
            "Omnibus:                      923.144   Durbin-Watson:                   1.953\n",
            "Prob(Omnibus):                  0.000   Jarque-Bera (JB):              279.754\n",
            "Skew:                          -0.024   Prob(JB):                     1.79e-61\n",
            "Kurtosis:                       2.182   Cond. No.                         167.\n",
            "==============================================================================\n",
            "\n",
            "Notes:\n",
            "[1] Standard Errors assume that the covariance matrix of the errors is correctly specified.\n"
          ]
        }
      ]
    },
    {
      "cell_type": "code",
      "source": [
        "## 0.55 es el umbral\n",
        "\n",
        "## el % de casos correctamente predichos (según umbral determinado)\n",
        "accuracy5 = accuracy_score(y, [1 if y > 0.55 else 0 for y in model5.fittedvalues])\n",
        "## SETEAMOS EL UMBRAL EN 0.XX\n",
        "accuracy_percentage5 =  accuracy5 * 100\n",
        "\n",
        "print(f\"Casos correctamente predichos: {accuracy_percentage5:.2f}%\")"
      ],
      "metadata": {
        "colab": {
          "base_uri": "https://localhost:8080/"
        },
        "id": "xvbM4ckK6d49",
        "outputId": "2da493ac-7226-4744-ead3-b504675def6d"
      },
      "execution_count": 22,
      "outputs": [
        {
          "output_type": "stream",
          "name": "stdout",
          "text": [
            "Casos correctamente predichos: 96.87%\n"
          ]
        }
      ]
    },
    {
      "cell_type": "markdown",
      "source": [
        "####Modelo 6"
      ],
      "metadata": {
        "id": "4H_ujp7i4s2N"
      }
    },
    {
      "cell_type": "code",
      "source": [
        "#Sistema_Colapsa = b0 + b1 * Consultas + b2 * Errores + μ\n",
        "\n",
        "X6 = data[[\"Consultas\",\"Errores\"]]\n",
        "y = data[\"Sistema_Colapsa\"]\n",
        "\n",
        "model6 = sm.OLS(y, sm.add_constant(X6)).fit()\n",
        "\n",
        "print(model6.summary())"
      ],
      "metadata": {
        "colab": {
          "base_uri": "https://localhost:8080/"
        },
        "id": "vtQeJxBfwcXz",
        "outputId": "01a93bcb-ef3e-4d27-f804-0db6539463e8"
      },
      "execution_count": 23,
      "outputs": [
        {
          "output_type": "stream",
          "name": "stdout",
          "text": [
            "                            OLS Regression Results                            \n",
            "==============================================================================\n",
            "Dep. Variable:        Sistema_Colapsa   R-squared:                       0.749\n",
            "Model:                            OLS   Adj. R-squared:                  0.749\n",
            "Method:                 Least Squares   F-statistic:                 1.490e+04\n",
            "Date:                Wed, 05 Jun 2024   Prob (F-statistic):               0.00\n",
            "Time:                        04:24:51   Log-Likelihood:                -345.38\n",
            "No. Observations:               10000   AIC:                             696.8\n",
            "Df Residuals:                    9997   BIC:                             718.4\n",
            "Df Model:                           2                                         \n",
            "Covariance Type:            nonrobust                                         \n",
            "==============================================================================\n",
            "                 coef    std err          t      P>|t|      [0.025      0.975]\n",
            "------------------------------------------------------------------------------\n",
            "const         -0.2559      0.006    -42.036      0.000      -0.268      -0.244\n",
            "Consultas      0.0150   8.68e-05    172.586      0.000       0.015       0.015\n",
            "Errores        0.0010      0.002      0.563      0.573      -0.002       0.004\n",
            "==============================================================================\n",
            "Omnibus:                      918.799   Durbin-Watson:                   1.952\n",
            "Prob(Omnibus):                  0.000   Jarque-Bera (JB):              279.084\n",
            "Skew:                          -0.024   Prob(JB):                     2.50e-61\n",
            "Kurtosis:                       2.183   Cond. No.                         141.\n",
            "==============================================================================\n",
            "\n",
            "Notes:\n",
            "[1] Standard Errors assume that the covariance matrix of the errors is correctly specified.\n"
          ]
        }
      ]
    },
    {
      "cell_type": "code",
      "source": [
        "## 0.55 es el umbral\n",
        "\n",
        "## el % de casos correctamente predichos (según umbral determinado)\n",
        "accuracy6 = accuracy_score(y, [1 if y > 0.55 else 0 for y in model6.fittedvalues])\n",
        "## SETEAMOS EL UMBRAL EN 0.XX\n",
        "accuracy_percentage6 =  accuracy6 * 100\n",
        "\n",
        "print(f\"Casos correctamente predichos: {accuracy_percentage6:.2f}%\")"
      ],
      "metadata": {
        "colab": {
          "base_uri": "https://localhost:8080/"
        },
        "id": "pwWAeEgywsA1",
        "outputId": "36cef680-249d-4949-ebeb-d382095eaac1"
      },
      "execution_count": 24,
      "outputs": [
        {
          "output_type": "stream",
          "name": "stdout",
          "text": [
            "Casos correctamente predichos: 97.04%\n"
          ]
        }
      ]
    },
    {
      "cell_type": "markdown",
      "source": [
        "####Modelo 7"
      ],
      "metadata": {
        "id": "OukW2mAN4ykb"
      }
    },
    {
      "cell_type": "code",
      "source": [
        "#Sistema_Colapsa = b0 + b1 * Consultas + b2 * Capacidad_Servidores + μ\n",
        "\n",
        "X7 = data[[\"Consultas\",\"Capacidad_Servidores\"]]\n",
        "y = data[\"Sistema_Colapsa\"]\n",
        "\n",
        "model7 = sm.OLS(y, sm.add_constant(X7)).fit()\n",
        "\n",
        "print(model7.summary())"
      ],
      "metadata": {
        "colab": {
          "base_uri": "https://localhost:8080/"
        },
        "id": "YNCm_c9ADFVp",
        "outputId": "c20ec92a-99fa-41a1-ad7e-3312d4588c61"
      },
      "execution_count": 25,
      "outputs": [
        {
          "output_type": "stream",
          "name": "stdout",
          "text": [
            "                            OLS Regression Results                            \n",
            "==============================================================================\n",
            "Dep. Variable:        Sistema_Colapsa   R-squared:                       0.749\n",
            "Model:                            OLS   Adj. R-squared:                  0.749\n",
            "Method:                 Least Squares   F-statistic:                 1.490e+04\n",
            "Date:                Wed, 05 Jun 2024   Prob (F-statistic):               0.00\n",
            "Time:                        04:24:51   Log-Likelihood:                -345.36\n",
            "No. Observations:               10000   AIC:                             696.7\n",
            "Df Residuals:                    9997   BIC:                             718.4\n",
            "Df Model:                           2                                         \n",
            "Covariance Type:            nonrobust                                         \n",
            "========================================================================================\n",
            "                           coef    std err          t      P>|t|      [0.025      0.975]\n",
            "----------------------------------------------------------------------------------------\n",
            "const                   -0.2567      0.007    -37.368      0.000      -0.270      -0.243\n",
            "Consultas                0.0150   8.68e-05    172.600      0.000       0.015       0.015\n",
            "Capacidad_Servidores     0.0005      0.001      0.599      0.549      -0.001       0.002\n",
            "==============================================================================\n",
            "Omnibus:                      921.897   Durbin-Watson:                   1.952\n",
            "Prob(Omnibus):                  0.000   Jarque-Bera (JB):              279.585\n",
            "Skew:                          -0.024   Prob(JB):                     1.94e-61\n",
            "Kurtosis:                       2.182   Cond. No.                         158.\n",
            "==============================================================================\n",
            "\n",
            "Notes:\n",
            "[1] Standard Errors assume that the covariance matrix of the errors is correctly specified.\n"
          ]
        }
      ]
    },
    {
      "cell_type": "code",
      "source": [
        "## 0.55 es el umbral\n",
        "\n",
        "## el % de casos correctamente predichos (según umbral determinado)\n",
        "accuracy7 = accuracy_score(y, [1 if y > 0.55 else 0 for y in model7.fittedvalues])\n",
        "## SETEAMOS EL UMBRAL EN 0.XX\n",
        "accuracy_percentage7 =  accuracy7 * 100\n",
        "\n",
        "print(f\"Casos correctamente predichos: {accuracy_percentage7:.2f}%\")"
      ],
      "metadata": {
        "colab": {
          "base_uri": "https://localhost:8080/"
        },
        "id": "ISXDGZ7JDr6p",
        "outputId": "a8bbe606-01f9-46ee-9909-03cac6b0d67f"
      },
      "execution_count": 26,
      "outputs": [
        {
          "output_type": "stream",
          "name": "stdout",
          "text": [
            "Casos correctamente predichos: 97.04%\n"
          ]
        }
      ]
    },
    {
      "cell_type": "markdown",
      "source": [
        "####Modelo 8"
      ],
      "metadata": {
        "id": "IIUY0tRo42F_"
      }
    },
    {
      "cell_type": "code",
      "source": [
        "#Sistema_Colapsa = b0 + b1 * Tiempo_Promedio + b2 * Errores + μ\n",
        "\n",
        "X8 = data[[\"Tiempo_Promedio\",\"Errores\"]]\n",
        "y = data[\"Sistema_Colapsa\"]\n",
        "\n",
        "model8 = sm.OLS(y, sm.add_constant(X8)).fit()\n",
        "\n",
        "print(model8.summary())"
      ],
      "metadata": {
        "colab": {
          "base_uri": "https://localhost:8080/"
        },
        "id": "Q3BjgsO_D4Oa",
        "outputId": "cf6de923-0cda-45e6-d6fd-bf57c103f302"
      },
      "execution_count": 27,
      "outputs": [
        {
          "output_type": "stream",
          "name": "stdout",
          "text": [
            "                            OLS Regression Results                            \n",
            "==============================================================================\n",
            "Dep. Variable:        Sistema_Colapsa   R-squared:                       0.000\n",
            "Model:                            OLS   Adj. R-squared:                 -0.000\n",
            "Method:                 Least Squares   F-statistic:                    0.7920\n",
            "Date:                Wed, 05 Jun 2024   Prob (F-statistic):              0.453\n",
            "Time:                        04:24:52   Log-Likelihood:                -7251.1\n",
            "No. Observations:               10000   AIC:                         1.451e+04\n",
            "Df Residuals:                    9997   BIC:                         1.453e+04\n",
            "Df Model:                           2                                         \n",
            "Covariance Type:            nonrobust                                         \n",
            "===================================================================================\n",
            "                      coef    std err          t      P>|t|      [0.025      0.975]\n",
            "-----------------------------------------------------------------------------------\n",
            "const               0.4741      0.014     34.549      0.000       0.447       0.501\n",
            "Tiempo_Promedio -7.762e-05      0.002     -0.040      0.968      -0.004       0.004\n",
            "Errores             0.0044      0.004      1.258      0.208      -0.002       0.011\n",
            "==============================================================================\n",
            "Omnibus:                    34512.646   Durbin-Watson:                   1.991\n",
            "Prob(Omnibus):                  0.000   Jarque-Bera (JB):             1665.621\n",
            "Skew:                           0.069   Prob(JB):                         0.00\n",
            "Kurtosis:                       1.005   Cond. No.                         17.8\n",
            "==============================================================================\n",
            "\n",
            "Notes:\n",
            "[1] Standard Errors assume that the covariance matrix of the errors is correctly specified.\n"
          ]
        }
      ]
    },
    {
      "cell_type": "code",
      "source": [
        "## 0.55 es el umbral\n",
        "\n",
        "## el % de casos correctamente predichos (según umbral determinado)\n",
        "accuracy8 = accuracy_score(y, [1 if y > 0.55 else 0 for y in model8.fittedvalues])\n",
        "## SETEAMOS EL UMBRAL EN 0.XX\n",
        "accuracy_percentage8 =  accuracy8 * 100\n",
        "\n",
        "print(f\"Casos correctamente predichos: {accuracy_percentage8:.2f}%\")"
      ],
      "metadata": {
        "colab": {
          "base_uri": "https://localhost:8080/"
        },
        "id": "RdRU__JPEH8q",
        "outputId": "d6f3d9f4-ffba-4bd1-e4e7-25d457b5fd49"
      },
      "execution_count": 28,
      "outputs": [
        {
          "output_type": "stream",
          "name": "stdout",
          "text": [
            "Casos correctamente predichos: 51.73%\n"
          ]
        }
      ]
    },
    {
      "cell_type": "markdown",
      "source": [
        "####Modelo 9"
      ],
      "metadata": {
        "id": "fNptL5Q-47lG"
      }
    },
    {
      "cell_type": "code",
      "source": [
        "#Sistema_Colapsa = b0 + b1 * Tiempo_Promedio + b2 * Capacidad_Servidores + μ\n",
        "\n",
        "X9 = data[[\"Tiempo_Promedio\",\"Capacidad_Servidores\"]]\n",
        "y = data[\"Sistema_Colapsa\"]\n",
        "\n",
        "model9 = sm.OLS(y, sm.add_constant(X9)).fit()\n",
        "\n",
        "print(model9.summary())"
      ],
      "metadata": {
        "colab": {
          "base_uri": "https://localhost:8080/"
        },
        "id": "p3m-V4B4EQc7",
        "outputId": "55cebebb-f87d-467c-db49-c75b15e98b9d"
      },
      "execution_count": 29,
      "outputs": [
        {
          "output_type": "stream",
          "name": "stdout",
          "text": [
            "                            OLS Regression Results                            \n",
            "==============================================================================\n",
            "Dep. Variable:        Sistema_Colapsa   R-squared:                       0.000\n",
            "Model:                            OLS   Adj. R-squared:                 -0.000\n",
            "Method:                 Least Squares   F-statistic:                    0.1836\n",
            "Date:                Wed, 05 Jun 2024   Prob (F-statistic):              0.832\n",
            "Time:                        04:24:52   Log-Likelihood:                -7251.7\n",
            "No. Observations:               10000   AIC:                         1.451e+04\n",
            "Df Residuals:                    9997   BIC:                         1.453e+04\n",
            "Df Model:                           2                                         \n",
            "Covariance Type:            nonrobust                                         \n",
            "========================================================================================\n",
            "                           coef    std err          t      P>|t|      [0.025      0.975]\n",
            "----------------------------------------------------------------------------------------\n",
            "const                    0.4774      0.015     31.626      0.000       0.448       0.507\n",
            "Tiempo_Promedio      -8.069e-05      0.002     -0.042      0.967      -0.004       0.004\n",
            "Capacidad_Servidores     0.0011      0.002      0.605      0.545      -0.002       0.004\n",
            "==============================================================================\n",
            "Omnibus:                    34503.163   Durbin-Watson:                   1.991\n",
            "Prob(Omnibus):                  0.000   Jarque-Bera (JB):             1666.432\n",
            "Skew:                           0.069   Prob(JB):                         0.00\n",
            "Kurtosis:                       1.005   Cond. No.                         25.1\n",
            "==============================================================================\n",
            "\n",
            "Notes:\n",
            "[1] Standard Errors assume that the covariance matrix of the errors is correctly specified.\n"
          ]
        }
      ]
    },
    {
      "cell_type": "code",
      "source": [
        "## 0.55 es el umbral\n",
        "\n",
        "## el % de casos correctamente predichos (según umbral determinado)\n",
        "accuracy9 = accuracy_score(y, [1 if y > 0.55 else 0 for y in model9.fittedvalues])\n",
        "## SETEAMOS EL UMBRAL EN 0.XX\n",
        "accuracy_percentage9 =  accuracy9 * 100\n",
        "\n",
        "print(f\"Casos correctamente predichos: {accuracy_percentage9:.2f}%\")"
      ],
      "metadata": {
        "colab": {
          "base_uri": "https://localhost:8080/"
        },
        "id": "6vnWnTYyEaPI",
        "outputId": "5d078366-40df-445c-f983-7164632c1574"
      },
      "execution_count": 30,
      "outputs": [
        {
          "output_type": "stream",
          "name": "stdout",
          "text": [
            "Casos correctamente predichos: 51.73%\n"
          ]
        }
      ]
    },
    {
      "cell_type": "markdown",
      "source": [
        "####Modelo 10"
      ],
      "metadata": {
        "id": "8hgBwwJR5AWO"
      }
    },
    {
      "cell_type": "code",
      "source": [
        "#Sistema_Colapsa = b0 + b1 * Errores + b2 * Capacidad_Servidores + μ\n",
        "\n",
        "X10 = data[[\"Errores\",\"Capacidad_Servidores\"]]\n",
        "y = data[\"Sistema_Colapsa\"]\n",
        "\n",
        "model10 = sm.OLS(y, sm.add_constant(X10)).fit()\n",
        "\n",
        "print(model10.summary())"
      ],
      "metadata": {
        "colab": {
          "base_uri": "https://localhost:8080/"
        },
        "id": "k2v466kREhNt",
        "outputId": "ff268fb7-a13b-4abf-827e-72d6cf29957c"
      },
      "execution_count": 31,
      "outputs": [
        {
          "output_type": "stream",
          "name": "stdout",
          "text": [
            "                            OLS Regression Results                            \n",
            "==============================================================================\n",
            "Dep. Variable:        Sistema_Colapsa   R-squared:                       0.000\n",
            "Model:                            OLS   Adj. R-squared:                 -0.000\n",
            "Method:                 Least Squares   F-statistic:                    0.9719\n",
            "Date:                Wed, 05 Jun 2024   Prob (F-statistic):              0.378\n",
            "Time:                        04:24:52   Log-Likelihood:                -7251.0\n",
            "No. Observations:               10000   AIC:                         1.451e+04\n",
            "Df Residuals:                    9997   BIC:                         1.453e+04\n",
            "Df Model:                           2                                         \n",
            "Covariance Type:            nonrobust                                         \n",
            "========================================================================================\n",
            "                           coef    std err          t      P>|t|      [0.025      0.975]\n",
            "----------------------------------------------------------------------------------------\n",
            "const                    0.4680      0.013     36.220      0.000       0.443       0.493\n",
            "Errores                  0.0044      0.004      1.256      0.209      -0.002       0.011\n",
            "Capacidad_Servidores     0.0010      0.002      0.601      0.548      -0.002       0.004\n",
            "==============================================================================\n",
            "Omnibus:                    34515.461   Durbin-Watson:                   1.991\n",
            "Prob(Omnibus):                  0.000   Jarque-Bera (JB):             1665.382\n",
            "Skew:                           0.069   Prob(JB):                         0.00\n",
            "Kurtosis:                       1.006   Cond. No.                         17.1\n",
            "==============================================================================\n",
            "\n",
            "Notes:\n",
            "[1] Standard Errors assume that the covariance matrix of the errors is correctly specified.\n"
          ]
        }
      ]
    },
    {
      "cell_type": "code",
      "source": [
        "## 0.55 es el umbral\n",
        "\n",
        "## el % de casos correctamente predichos (según umbral determinado)\n",
        "accuracy10 = accuracy_score(y, [1 if y > 0.55 else 0 for y in model10.fittedvalues])\n",
        "## SETEAMOS EL UMBRAL EN 0.XX\n",
        "accuracy_percentage10 =  accuracy10 * 100\n",
        "\n",
        "print(f\"Casos correctamente predichos: {accuracy_percentage10:.2f}%\")"
      ],
      "metadata": {
        "colab": {
          "base_uri": "https://localhost:8080/"
        },
        "id": "r0OSKmNpEt_p",
        "outputId": "6a602cb9-5998-4789-8d1e-ca58ac84de73"
      },
      "execution_count": 32,
      "outputs": [
        {
          "output_type": "stream",
          "name": "stdout",
          "text": [
            "Casos correctamente predichos: 51.73%\n"
          ]
        }
      ]
    },
    {
      "cell_type": "markdown",
      "source": [
        "####Modelo 11"
      ],
      "metadata": {
        "id": "hVW16fOg5FSA"
      }
    },
    {
      "cell_type": "code",
      "source": [
        "#Sistema_Colapsa = b0 + b1 * Consultas + b2 * Tiempo_Promedio + b3 * Errores + μ\n",
        "\n",
        "X11 = data[[\"Consultas\",\"Tiempo_Promedio\", \"Errores\"]]\n",
        "y = data[\"Sistema_Colapsa\"]\n",
        "\n",
        "model11 = sm.OLS(y, sm.add_constant(X11)).fit()\n",
        "\n",
        "print(model11.summary())"
      ],
      "metadata": {
        "colab": {
          "base_uri": "https://localhost:8080/"
        },
        "id": "H90DOVJGFsub",
        "outputId": "47f3ecc3-35be-4f5c-e5d0-4c3294cffce5"
      },
      "execution_count": 33,
      "outputs": [
        {
          "output_type": "stream",
          "name": "stdout",
          "text": [
            "                            OLS Regression Results                            \n",
            "==============================================================================\n",
            "Dep. Variable:        Sistema_Colapsa   R-squared:                       0.749\n",
            "Model:                            OLS   Adj. R-squared:                  0.749\n",
            "Method:                 Least Squares   F-statistic:                     9936.\n",
            "Date:                Wed, 05 Jun 2024   Prob (F-statistic):               0.00\n",
            "Time:                        04:24:52   Log-Likelihood:                -343.18\n",
            "No. Observations:               10000   AIC:                             694.4\n",
            "Df Residuals:                    9996   BIC:                             723.2\n",
            "Df Model:                           3                                         \n",
            "Covariance Type:            nonrobust                                         \n",
            "===================================================================================\n",
            "                      coef    std err          t      P>|t|      [0.025      0.975]\n",
            "-----------------------------------------------------------------------------------\n",
            "const              -0.2671      0.008    -32.945      0.000      -0.283      -0.251\n",
            "Consultas           0.0150   8.68e-05    172.628      0.000       0.015       0.015\n",
            "Tiempo_Promedio     0.0020      0.001      2.098      0.036       0.000       0.004\n",
            "Errores             0.0010      0.002      0.566      0.571      -0.002       0.004\n",
            "==============================================================================\n",
            "Omnibus:                      922.261   Durbin-Watson:                   1.953\n",
            "Prob(Omnibus):                  0.000   Jarque-Bera (JB):              279.599\n",
            "Skew:                          -0.023   Prob(JB):                     1.93e-61\n",
            "Kurtosis:                       2.182   Cond. No.                         187.\n",
            "==============================================================================\n",
            "\n",
            "Notes:\n",
            "[1] Standard Errors assume that the covariance matrix of the errors is correctly specified.\n"
          ]
        }
      ]
    },
    {
      "cell_type": "code",
      "source": [
        "## 0.55 es el umbral\n",
        "\n",
        "## el % de casos correctamente predichos (según umbral determinado)\n",
        "accuracy11 = accuracy_score(y, [1 if y > 0.55 else 0 for y in model11.fittedvalues])\n",
        "## SETEAMOS EL UMBRAL EN 0.XX\n",
        "accuracy_percentage11 =  accuracy11 * 100\n",
        "\n",
        "print(f\"Casos correctamente predichos: {accuracy_percentage11:.2f}%\")"
      ],
      "metadata": {
        "colab": {
          "base_uri": "https://localhost:8080/"
        },
        "id": "0mMP1acUGChU",
        "outputId": "d39f20d5-f1e4-48ea-9546-9b392dc4b345"
      },
      "execution_count": 34,
      "outputs": [
        {
          "output_type": "stream",
          "name": "stdout",
          "text": [
            "Casos correctamente predichos: 96.90%\n"
          ]
        }
      ]
    },
    {
      "cell_type": "markdown",
      "source": [
        "####Modelo 12"
      ],
      "metadata": {
        "id": "BPgfLCb75Kw7"
      }
    },
    {
      "cell_type": "code",
      "source": [
        "#Sistema_Colapsa = b0 + b1 * Consultas + b2 * Tiempo_Promedio + b3 * Capacidad_Servidores + μ\n",
        "\n",
        "X12 = data[[\"Consultas\",\"Tiempo_Promedio\", \"Capacidad_Servidores\"]]\n",
        "y = data[\"Sistema_Colapsa\"]\n",
        "\n",
        "model12 = sm.OLS(y, sm.add_constant(X12)).fit()\n",
        "\n",
        "print(model12.summary())"
      ],
      "metadata": {
        "colab": {
          "base_uri": "https://localhost:8080/"
        },
        "id": "kXOLTIDZGJE2",
        "outputId": "e35ae062-4886-4d92-f923-6f49790ded8b"
      },
      "execution_count": 35,
      "outputs": [
        {
          "output_type": "stream",
          "name": "stdout",
          "text": [
            "                            OLS Regression Results                            \n",
            "==============================================================================\n",
            "Dep. Variable:        Sistema_Colapsa   R-squared:                       0.749\n",
            "Model:                            OLS   Adj. R-squared:                  0.749\n",
            "Method:                 Least Squares   F-statistic:                     9936.\n",
            "Date:                Wed, 05 Jun 2024   Prob (F-statistic):               0.00\n",
            "Time:                        04:24:52   Log-Likelihood:                -343.16\n",
            "No. Observations:               10000   AIC:                             694.3\n",
            "Df Residuals:                    9996   BIC:                             723.2\n",
            "Df Model:                           3                                         \n",
            "Covariance Type:            nonrobust                                         \n",
            "========================================================================================\n",
            "                           coef    std err          t      P>|t|      [0.025      0.975]\n",
            "----------------------------------------------------------------------------------------\n",
            "const                   -0.2680      0.009    -30.765      0.000      -0.285      -0.251\n",
            "Consultas                0.0150   8.68e-05    172.642      0.000       0.015       0.015\n",
            "Tiempo_Promedio          0.0020      0.001      2.098      0.036       0.000       0.004\n",
            "Capacidad_Servidores     0.0005      0.001      0.600      0.549      -0.001       0.002\n",
            "==============================================================================\n",
            "Omnibus:                      925.313   Durbin-Watson:                   1.953\n",
            "Prob(Omnibus):                  0.000   Jarque-Bera (JB):              280.092\n",
            "Skew:                          -0.024   Prob(JB):                     1.51e-61\n",
            "Kurtosis:                       2.181   Cond. No.                         200.\n",
            "==============================================================================\n",
            "\n",
            "Notes:\n",
            "[1] Standard Errors assume that the covariance matrix of the errors is correctly specified.\n"
          ]
        }
      ]
    },
    {
      "cell_type": "code",
      "source": [
        "## 0.55 es el umbral\n",
        "\n",
        "## el % de casos correctamente predichos (según umbral determinado)\n",
        "accuracy12 = accuracy_score(y, [1 if y > 0.55 else 0 for y in model12.fittedvalues])\n",
        "## SETEAMOS EL UMBRAL EN 0.XX\n",
        "accuracy_percentage12 =  accuracy12 * 100\n",
        "\n",
        "print(f\"Casos correctamente predichos: {accuracy_percentage12:.2f}%\")"
      ],
      "metadata": {
        "colab": {
          "base_uri": "https://localhost:8080/"
        },
        "id": "MtPjYqpPGRka",
        "outputId": "5023a036-541f-4049-dc88-286ab785e2b4"
      },
      "execution_count": 36,
      "outputs": [
        {
          "output_type": "stream",
          "name": "stdout",
          "text": [
            "Casos correctamente predichos: 96.90%\n"
          ]
        }
      ]
    },
    {
      "cell_type": "markdown",
      "source": [
        "####Modelo 13"
      ],
      "metadata": {
        "id": "r0gQ6uCE5Ooz"
      }
    },
    {
      "cell_type": "code",
      "source": [
        "#Sistema_Colapsa = b0 + b1 * Consultas + b2 * Errores + b3 * Capacidad_Servidores + μ\n",
        "\n",
        "X13 = data[[\"Consultas\",\"Errores\", \"Capacidad_Servidores\"]]\n",
        "y = data[\"Sistema_Colapsa\"]\n",
        "\n",
        "model13 = sm.OLS(y, sm.add_constant(X13)).fit()\n",
        "\n",
        "print(model13.summary())"
      ],
      "metadata": {
        "colab": {
          "base_uri": "https://localhost:8080/"
        },
        "id": "70us5BdeGV_H",
        "outputId": "45592b3f-1e82-4150-b80b-478f3ea1c432"
      },
      "execution_count": 37,
      "outputs": [
        {
          "output_type": "stream",
          "name": "stdout",
          "text": [
            "                            OLS Regression Results                            \n",
            "==============================================================================\n",
            "Dep. Variable:        Sistema_Colapsa   R-squared:                       0.749\n",
            "Model:                            OLS   Adj. R-squared:                  0.749\n",
            "Method:                 Least Squares   F-statistic:                     9930.\n",
            "Date:                Wed, 05 Jun 2024   Prob (F-statistic):               0.00\n",
            "Time:                        04:24:52   Log-Likelihood:                -345.21\n",
            "No. Observations:               10000   AIC:                             698.4\n",
            "Df Residuals:                    9996   BIC:                             727.3\n",
            "Df Model:                           3                                         \n",
            "Covariance Type:            nonrobust                                         \n",
            "========================================================================================\n",
            "                           coef    std err          t      P>|t|      [0.025      0.975]\n",
            "----------------------------------------------------------------------------------------\n",
            "const                   -0.2587      0.008    -33.490      0.000      -0.274      -0.244\n",
            "Consultas                0.0150   8.68e-05    172.577      0.000       0.015       0.015\n",
            "Errores                  0.0010      0.002      0.562      0.574      -0.002       0.004\n",
            "Capacidad_Servidores     0.0005      0.001      0.597      0.551      -0.001       0.002\n",
            "==============================================================================\n",
            "Omnibus:                      921.016   Durbin-Watson:                   1.952\n",
            "Prob(Omnibus):                  0.000   Jarque-Bera (JB):              279.431\n",
            "Skew:                          -0.024   Prob(JB):                     2.10e-61\n",
            "Kurtosis:                       2.182   Cond. No.                         178.\n",
            "==============================================================================\n",
            "\n",
            "Notes:\n",
            "[1] Standard Errors assume that the covariance matrix of the errors is correctly specified.\n"
          ]
        }
      ]
    },
    {
      "cell_type": "code",
      "source": [
        "## 0.55 es el umbral\n",
        "\n",
        "## el % de casos correctamente predichos (según umbral determinado)\n",
        "accuracy13 = accuracy_score(y, [1 if y > 0.55 else 0 for y in model13.fittedvalues])\n",
        "## SETEAMOS EL UMBRAL EN 0.XX\n",
        "accuracy_percentage13 =  accuracy13 * 100\n",
        "\n",
        "print(f\"Casos correctamente predichos: {accuracy_percentage13:.2f}%\")"
      ],
      "metadata": {
        "colab": {
          "base_uri": "https://localhost:8080/"
        },
        "id": "QH9tyrsKGf12",
        "outputId": "05f96a8a-6ab7-4a80-b13e-5cbfa330d356"
      },
      "execution_count": 38,
      "outputs": [
        {
          "output_type": "stream",
          "name": "stdout",
          "text": [
            "Casos correctamente predichos: 97.04%\n"
          ]
        }
      ]
    },
    {
      "cell_type": "markdown",
      "source": [
        "####Modelo 14"
      ],
      "metadata": {
        "id": "WtSD4byF5TTp"
      }
    },
    {
      "cell_type": "code",
      "source": [
        "#Sistema_Colapsa = b0 + b1 * Tiempo_Promedio + b2 * Errores + b3 * Capacidad_Servidores + μ\n",
        "\n",
        "X14 = data[[\"Tiempo_Promedio\",\"Errores\", \"Capacidad_Servidores\"]]\n",
        "y = data[\"Sistema_Colapsa\"]\n",
        "\n",
        "model14 = sm.OLS(y, sm.add_constant(X14)).fit()\n",
        "\n",
        "print(model14.summary())"
      ],
      "metadata": {
        "colab": {
          "base_uri": "https://localhost:8080/"
        },
        "id": "DlTfugdCGq1D",
        "outputId": "f505ff5e-044a-4976-8543-414d271e3533"
      },
      "execution_count": 39,
      "outputs": [
        {
          "output_type": "stream",
          "name": "stdout",
          "text": [
            "                            OLS Regression Results                            \n",
            "==============================================================================\n",
            "Dep. Variable:        Sistema_Colapsa   R-squared:                       0.000\n",
            "Model:                            OLS   Adj. R-squared:                 -0.000\n",
            "Method:                 Least Squares   F-statistic:                    0.6484\n",
            "Date:                Wed, 05 Jun 2024   Prob (F-statistic):              0.584\n",
            "Time:                        04:24:52   Log-Likelihood:                -7251.0\n",
            "No. Observations:               10000   AIC:                         1.451e+04\n",
            "Df Residuals:                    9996   BIC:                         1.454e+04\n",
            "Df Model:                           3                                         \n",
            "Covariance Type:            nonrobust                                         \n",
            "========================================================================================\n",
            "                           coef    std err          t      P>|t|      [0.025      0.975]\n",
            "----------------------------------------------------------------------------------------\n",
            "const                    0.4684      0.017     28.039      0.000       0.436       0.501\n",
            "Tiempo_Promedio      -7.692e-05      0.002     -0.040      0.968      -0.004       0.004\n",
            "Errores                  0.0044      0.004      1.256      0.209      -0.002       0.011\n",
            "Capacidad_Servidores     0.0010      0.002      0.601      0.548      -0.002       0.004\n",
            "==============================================================================\n",
            "Omnibus:                    34515.474   Durbin-Watson:                   1.991\n",
            "Prob(Omnibus):                  0.000   Jarque-Bera (JB):             1665.381\n",
            "Skew:                           0.069   Prob(JB):                         0.00\n",
            "Kurtosis:                       1.006   Cond. No.                         28.6\n",
            "==============================================================================\n",
            "\n",
            "Notes:\n",
            "[1] Standard Errors assume that the covariance matrix of the errors is correctly specified.\n"
          ]
        }
      ]
    },
    {
      "cell_type": "code",
      "source": [
        "## 0.55 es el umbral\n",
        "\n",
        "## el % de casos correctamente predichos (según umbral determinado)\n",
        "accuracy14 = accuracy_score(y, [1 if y > 0.55 else 0 for y in model14.fittedvalues])\n",
        "## SETEAMOS EL UMBRAL EN 0.XX\n",
        "accuracy_percentage14 =  accuracy14 * 100\n",
        "\n",
        "print(f\"Casos correctamente predichos: {accuracy_percentage14:.2f}%\")"
      ],
      "metadata": {
        "colab": {
          "base_uri": "https://localhost:8080/"
        },
        "id": "Ez5O7gDSGwMp",
        "outputId": "f0f0a0b8-5019-4caf-c39d-42d9443af19c"
      },
      "execution_count": 40,
      "outputs": [
        {
          "output_type": "stream",
          "name": "stdout",
          "text": [
            "Casos correctamente predichos: 51.73%\n"
          ]
        }
      ]
    },
    {
      "cell_type": "markdown",
      "source": [
        "####Modelo 15"
      ],
      "metadata": {
        "id": "gDUE26gP5Ztv"
      }
    },
    {
      "cell_type": "code",
      "source": [
        "#Sistema_Colapsa = b0 + b1 * Consultas + b2 * Tiempo_Promedio + b3 * Errores + b4 * Capacidad_Servidores + μ\n",
        "\n",
        "X15 = data[[\"Consultas\", \"Tiempo_Promedio\", \"Errores\", \"Capacidad_Servidores\"]]\n",
        "y = data[\"Sistema_Colapsa\"]\n",
        "\n",
        "model15 = sm.OLS(y, sm.add_constant(X15)).fit()\n",
        "\n",
        "print(model15.summary())"
      ],
      "metadata": {
        "colab": {
          "base_uri": "https://localhost:8080/"
        },
        "id": "NxPoJzmdG38j",
        "outputId": "d9614a6c-d8b5-439c-cb2a-4cdffeadcf6a"
      },
      "execution_count": 41,
      "outputs": [
        {
          "output_type": "stream",
          "name": "stdout",
          "text": [
            "                            OLS Regression Results                            \n",
            "==============================================================================\n",
            "Dep. Variable:        Sistema_Colapsa   R-squared:                       0.749\n",
            "Model:                            OLS   Adj. R-squared:                  0.749\n",
            "Method:                 Least Squares   F-statistic:                     7451.\n",
            "Date:                Wed, 05 Jun 2024   Prob (F-statistic):               0.00\n",
            "Time:                        04:24:53   Log-Likelihood:                -343.00\n",
            "No. Observations:               10000   AIC:                             696.0\n",
            "Df Residuals:                    9995   BIC:                             732.1\n",
            "Df Model:                           4                                         \n",
            "Covariance Type:            nonrobust                                         \n",
            "========================================================================================\n",
            "                           coef    std err          t      P>|t|      [0.025      0.975]\n",
            "----------------------------------------------------------------------------------------\n",
            "const                   -0.2700      0.009    -28.714      0.000      -0.288      -0.252\n",
            "Consultas                0.0150   8.68e-05    172.619      0.000       0.015       0.015\n",
            "Tiempo_Promedio          0.0020      0.001      2.098      0.036       0.000       0.004\n",
            "Errores                  0.0010      0.002      0.565      0.572      -0.002       0.004\n",
            "Capacidad_Servidores     0.0005      0.001      0.598      0.550      -0.001       0.002\n",
            "==============================================================================\n",
            "Omnibus:                      924.416   Durbin-Watson:                   1.953\n",
            "Prob(Omnibus):                  0.000   Jarque-Bera (JB):              279.935\n",
            "Skew:                          -0.023   Prob(JB):                     1.63e-61\n",
            "Kurtosis:                       2.182   Cond. No.                         217.\n",
            "==============================================================================\n",
            "\n",
            "Notes:\n",
            "[1] Standard Errors assume that the covariance matrix of the errors is correctly specified.\n"
          ]
        }
      ]
    },
    {
      "cell_type": "code",
      "source": [
        "## 0.55 es el umbral\n",
        "\n",
        "## el % de casos correctamente predichos (según umbral determinado)\n",
        "accuracy15 = accuracy_score(y, [1 if y > 0.55 else 0 for y in model15.fittedvalues])\n",
        "## SETEAMOS EL UMBRAL EN 0.XX\n",
        "accuracy_percentage15 =  accuracy15 * 100\n",
        "\n",
        "print(f\"Casos correctamente predichos: {accuracy_percentage15:.2f}%\")"
      ],
      "metadata": {
        "colab": {
          "base_uri": "https://localhost:8080/"
        },
        "id": "skc_T0_4HFuk",
        "outputId": "a53d60c2-5a04-4853-8875-17a774abc30d"
      },
      "execution_count": 42,
      "outputs": [
        {
          "output_type": "stream",
          "name": "stdout",
          "text": [
            "Casos correctamente predichos: 96.91%\n"
          ]
        }
      ]
    },
    {
      "cell_type": "markdown",
      "source": [
        "### Modelo escogido"
      ],
      "metadata": {
        "id": "MUtzo4Zn-XmQ"
      }
    },
    {
      "cell_type": "code",
      "source": [
        "##modelo 1\n",
        "\n",
        "print(model.summary())\n",
        "\n",
        "#Sistema_Colapsa = -0.2539 + 0.0150 * Consultas"
      ],
      "metadata": {
        "id": "m_jIlmvvhdFj",
        "colab": {
          "base_uri": "https://localhost:8080/"
        },
        "outputId": "47410f39-91ed-4545-ba98-dcb4a72b2764"
      },
      "execution_count": 43,
      "outputs": [
        {
          "output_type": "stream",
          "name": "stdout",
          "text": [
            "                            OLS Regression Results                            \n",
            "==============================================================================\n",
            "Dep. Variable:        Sistema_Colapsa   R-squared:                       0.749\n",
            "Model:                            OLS   Adj. R-squared:                  0.749\n",
            "Method:                 Least Squares   F-statistic:                 2.979e+04\n",
            "Date:                Wed, 05 Jun 2024   Prob (F-statistic):               0.00\n",
            "Time:                        04:24:53   Log-Likelihood:                -345.54\n",
            "No. Observations:               10000   AIC:                             695.1\n",
            "Df Residuals:                    9998   BIC:                             709.5\n",
            "Df Model:                           1                                         \n",
            "Covariance Type:            nonrobust                                         \n",
            "==============================================================================\n",
            "                 coef    std err          t      P>|t|      [0.025      0.975]\n",
            "------------------------------------------------------------------------------\n",
            "const         -0.2539      0.005    -51.307      0.000      -0.264      -0.244\n",
            "Consultas      0.0150   8.68e-05    172.609      0.000       0.015       0.015\n",
            "==============================================================================\n",
            "Omnibus:                      919.666   Durbin-Watson:                   1.952\n",
            "Prob(Omnibus):                  0.000   Jarque-Bera (JB):              279.236\n",
            "Skew:                          -0.024   Prob(JB):                     2.32e-61\n",
            "Kurtosis:                       2.183   Cond. No.                         113.\n",
            "==============================================================================\n",
            "\n",
            "Notes:\n",
            "[1] Standard Errors assume that the covariance matrix of the errors is correctly specified.\n"
          ]
        }
      ]
    },
    {
      "cell_type": "markdown",
      "source": [
        "###Simulacion de datos de columna ***consultas*** con el modelo seleccionado."
      ],
      "metadata": {
        "id": "m2JfVhUcgpOd"
      }
    },
    {
      "cell_type": "code",
      "source": [
        "X_test=pd.DataFrame({'Constant': [1]*10000,\n",
        "                     'Consultas': data[\"Consultas\"]})\n",
        "\n",
        "y_pred=model.predict(X_test);y_pred"
      ],
      "metadata": {
        "colab": {
          "base_uri": "https://localhost:8080/"
        },
        "id": "9h4uF6NR2ZUt",
        "outputId": "34d28950-17f2-4ca6-e8d7-5d94b5c01f9e"
      },
      "execution_count": 44,
      "outputs": [
        {
          "output_type": "execute_result",
          "data": {
            "text/plain": [
              "0       0.405301\n",
              "1       0.450246\n",
              "2       0.704930\n",
              "3       0.749875\n",
              "4       0.749875\n",
              "          ...   \n",
              "9995   -0.149013\n",
              "9996    0.180579\n",
              "9997    0.330394\n",
              "9998    0.824782\n",
              "9999    0.465227\n",
              "Length: 10000, dtype: float64"
            ]
          },
          "metadata": {},
          "execution_count": 44
        }
      ]
    },
    {
      "cell_type": "markdown",
      "source": [
        "Simulacion de promedio variable consultas con el modelo seleccionado."
      ],
      "metadata": {
        "id": "pmzxcwImU00B"
      }
    },
    {
      "cell_type": "code",
      "source": [
        "X_test2=pd.DataFrame({'Constant': [1],\n",
        "                     'Consultas': [49]})\n",
        "\n",
        "y_pred2=model.predict(X_test);y_pred2"
      ],
      "metadata": {
        "colab": {
          "base_uri": "https://localhost:8080/"
        },
        "id": "_J6zHNGLUZxK",
        "outputId": "845ba0ad-d436-4308-beb4-56fb1a75bfc3"
      },
      "execution_count": 45,
      "outputs": [
        {
          "output_type": "execute_result",
          "data": {
            "text/plain": [
              "0       0.405301\n",
              "1       0.450246\n",
              "2       0.704930\n",
              "3       0.749875\n",
              "4       0.749875\n",
              "          ...   \n",
              "9995   -0.149013\n",
              "9996    0.180579\n",
              "9997    0.330394\n",
              "9998    0.824782\n",
              "9999    0.465227\n",
              "Length: 10000, dtype: float64"
            ]
          },
          "metadata": {},
          "execution_count": 45
        }
      ]
    },
    {
      "cell_type": "markdown",
      "source": [
        "### Graficar los valores reales vs. los valores predichos"
      ],
      "metadata": {
        "id": "D_s7iZiFiESm"
      }
    },
    {
      "cell_type": "code",
      "source": [
        "plt.scatter(data[\"Consultas\"], y_pred, alpha=0.5)\n",
        "plt.axhline(0, color='red', linestyle='--')\n",
        "plt.axhline(1, color='blue', linestyle='--')\n",
        "plt.xlabel('Consultas')\n",
        "plt.ylabel('Valores Predichos')\n",
        "plt.title('Consultas vs. Valores Predichos')\n",
        "plt.legend()\n",
        "plt.show()"
      ],
      "metadata": {
        "colab": {
          "base_uri": "https://localhost:8080/",
          "height": 489
        },
        "id": "xHH3Xk980LnS",
        "outputId": "3f1217c4-67fe-4ed2-c776-0fb1c25e8da8"
      },
      "execution_count": 46,
      "outputs": [
        {
          "output_type": "stream",
          "name": "stderr",
          "text": [
            "WARNING:matplotlib.legend:No artists with labels found to put in legend.  Note that artists whose label start with an underscore are ignored when legend() is called with no argument.\n"
          ]
        },
        {
          "output_type": "display_data",
          "data": {
            "text/plain": [
              "<Figure size 640x480 with 1 Axes>"
            ],
            "image/png": "[encoded data removed]"
          },
          "metadata": {}
        }
      ]
    },
    {
      "cell_type": "markdown",
      "source": [
        "##Justificacion del modelo escogido"
      ],
      "metadata": {
        "id": "U_P1emJNNTZJ"
      }
    },
    {
      "cell_type": "code",
      "source": [
        "# prueba de hipotesis beta1\n",
        "\n",
        "#Ho: b1 = 0\n",
        "#Ha: b1 ≠ 0\n",
        "\n",
        "#Sistema_Colapsa = -0.2539 + 0.0150 * Consultas\n",
        "\n",
        "accuracy = accuracy_score(y, [1 if y > 0.55 else 0 for y in model.fittedvalues])\n",
        "accuracy_percentage =  accuracy * 100\n",
        "\n",
        "print(f\"Casos correctamente predichos: {accuracy_percentage:.2f}%\")"
      ],
      "metadata": {
        "id": "k01DeiTsDsIy",
        "colab": {
          "base_uri": "https://localhost:8080/"
        },
        "outputId": "214dcf11-dc61-4464-9160-8f8518c35996"
      },
      "execution_count": 47,
      "outputs": [
        {
          "output_type": "stream",
          "name": "stdout",
          "text": [
            "Casos correctamente predichos: 97.04%\n"
          ]
        }
      ]
    },
    {
      "cell_type": "markdown",
      "source": [
        "El modelo fue elegido porque explica un 97.04% de casos correctamente predichos, y si bien hay otros modelos que explican el mismo porcentaje de casos correctamente predichos, no fueron escogidos ya que están siendo explicado por variables que podrían ser estadísticamente no diferentes de cero, además hay que destacar que la variable consultas, la cual es la variable explicativa del modelo, está presente en los demás modelos que explican un alto porcentaje de casos correctamente predichos. Por otra parte, este modelo fue escogido ya que al realizar la prueba de diferencia de medias se logró concluir que sólo la variable consultas tenía una diferencia de medias estadísticamente diferente de 0, a diferencia de las otras variables en las cuales su diferencia de medias si podían ser 0"
      ],
      "metadata": {
        "id": "rivfrIEM5srU"
      }
    },
    {
      "cell_type": "markdown",
      "source": [
        "##Interpretación de cada uno de los coeficientes estimados\n",
        "El valor de beta0 es -0.2539 que se puede interpretar como el valor esperado de ***Sistema_Colapsa*** cuando ***Consultas*** es igual a cero. por lo que se espera que, con un 25.39% de probabilidad, se espera que el sistema colapse cuando no hay consultas\n",
        "\n",
        " el valor de beta1 es 0.0150 significa que, permaneciendo los demas factores constantes, una consulta mas hace que la probabilidad que el sistema colapse aumente en 0.0150 puntos. incluso 50 consultas mas aumentan la probabilidad de colapso en (0.0150 * 50 = 0.75).\n",
        "\n"
      ],
      "metadata": {
        "id": "z6U0dG-2QGWF"
      }
    },
    {
      "cell_type": "markdown",
      "source": [
        "##Utilidad del modelo al problema planteado por la empresa\n",
        "\n",
        "El modelo permite a la empresa predecir la probabilidad de que su sistema de información colapse en función del número de consultas ingresadas. Esto puede ser valioso para la planificación operativa y la asignación de recursos. Por ejemplo, la empresa puede tomar medidas preventivas cuando la probabilidad de colapso es alta.\n",
        "Con este modelo la empresa puede tomar varias decisiones para prever un colapso del sistema, la primera de ellas es invertir recursos en el sistema para mejorar su capacidad y pueda soportar un mayor número de consultas, evitando así el colapso de este, o bien puede crear una fila de espera que evite que muchos usuarios ingresen al sistema al mismo tiempo y lo colapsen.\n",
        "\n",
        "\n",
        "\n",
        "\n"
      ],
      "metadata": {
        "id": "NJdh_vVbUuUp"
      }
    }
  ]
}